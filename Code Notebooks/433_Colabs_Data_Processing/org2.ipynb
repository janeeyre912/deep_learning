{
 "cells": [
  {
   "cell_type": "code",
   "execution_count": 1,
   "metadata": {},
   "outputs": [
    {
     "name": "stdout",
     "output_type": "stream",
     "text": [
      "Requirement already satisfied: pip in c:\\users\\miche\\anaconda3dec\\envs\\test\\lib\\site-packages (22.3.1)\n",
      "Requirement already satisfied: Pillow in c:\\users\\miche\\anaconda3dec\\envs\\test\\lib\\site-packages (9.3.0)\n"
     ]
    }
   ],
   "source": [
    "!pip install --upgrade pip\n",
    "!pip install --upgrade Pillow"
   ]
  },
  {
   "cell_type": "code",
   "execution_count": 6,
   "metadata": {},
   "outputs": [],
   "source": [
    "import geopandas as gpd\n",
    "import matplotlib.pyplot as plt\n",
    "import numpy as np\n",
    "import rasterio\n",
    "import torch\n",
    "import glob\n",
    "import pandas as pd\n",
    "import matplotlib.image as mpimg \n",
    "from PIL import Image\n",
    "\n",
    "from torch.utils.data import Dataset\n",
    "from rasterio import mask\n",
    "from rasterio.plot import show"
   ]
  },
  {
   "cell_type": "code",
   "execution_count": 31,
   "metadata": {},
   "outputs": [],
   "source": [
    "fp = r'./Downloads/data/Tile D5/Planet_D5_FullScene/20170929_145600-01_Mosaic_clip.tif'\n",
    "#r'.\\data\\Tile D4\\Planet_D4_Full\\20210213_150034_Mosaic_clip.tif'"
   ]
  },
  {
   "cell_type": "code",
   "execution_count": 32,
   "metadata": {},
   "outputs": [
    {
     "ename": "RasterioIOError",
     "evalue": "./Downloads/data/Tile D5/Planet_D5_FullScene/20170929_145600-01_Mosaic_clip.tif: No such file or directory",
     "output_type": "error",
     "traceback": [
      "\u001b[1;31m---------------------------------------------------------------------------\u001b[0m",
      "\u001b[1;31mCPLE_OpenFailedError\u001b[0m                      Traceback (most recent call last)",
      "File \u001b[1;32mrasterio\\_base.pyx:307\u001b[0m, in \u001b[0;36mrasterio._base.DatasetBase.__init__\u001b[1;34m()\u001b[0m\n",
      "File \u001b[1;32mrasterio\\_base.pyx:218\u001b[0m, in \u001b[0;36mrasterio._base.open_dataset\u001b[1;34m()\u001b[0m\n",
      "File \u001b[1;32mrasterio\\_err.pyx:221\u001b[0m, in \u001b[0;36mrasterio._err.exc_wrap_pointer\u001b[1;34m()\u001b[0m\n",
      "\u001b[1;31mCPLE_OpenFailedError\u001b[0m: ./Downloads/data/Tile D5/Planet_D5_FullScene/20170929_145600-01_Mosaic_clip.tif: No such file or directory",
      "\nDuring handling of the above exception, another exception occurred:\n",
      "\u001b[1;31mRasterioIOError\u001b[0m                           Traceback (most recent call last)",
      "Cell \u001b[1;32mIn [32], line 1\u001b[0m\n\u001b[1;32m----> 1\u001b[0m img \u001b[39m=\u001b[39m rasterio\u001b[39m.\u001b[39;49mopen(fp)\n\u001b[0;32m      2\u001b[0m img\u001b[39m.\u001b[39mread()\n\u001b[0;32m      4\u001b[0m shp \u001b[39m=\u001b[39m rasterio\u001b[39m.\u001b[39mopen(\u001b[39m'\u001b[39m\u001b[39mdata/buffered_shp/BUF_Tile_D4.shp\u001b[39m\u001b[39m'\u001b[39m)\n",
      "File \u001b[1;32mc:\\Users\\miche\\anaconda3dec\\envs\\test\\lib\\site-packages\\rasterio\\env.py:444\u001b[0m, in \u001b[0;36mensure_env_with_credentials.<locals>.wrapper\u001b[1;34m(*args, **kwds)\u001b[0m\n\u001b[0;32m    441\u001b[0m     session \u001b[39m=\u001b[39m DummySession()\n\u001b[0;32m    443\u001b[0m \u001b[39mwith\u001b[39;00m env_ctor(session\u001b[39m=\u001b[39msession):\n\u001b[1;32m--> 444\u001b[0m     \u001b[39mreturn\u001b[39;00m f(\u001b[39m*\u001b[39;49margs, \u001b[39m*\u001b[39;49m\u001b[39m*\u001b[39;49mkwds)\n",
      "File \u001b[1;32mc:\\Users\\miche\\anaconda3dec\\envs\\test\\lib\\site-packages\\rasterio\\__init__.py:332\u001b[0m, in \u001b[0;36mopen\u001b[1;34m(fp, mode, driver, width, height, count, crs, transform, dtype, nodata, sharing, **kwargs)\u001b[0m\n\u001b[0;32m    329\u001b[0m path \u001b[39m=\u001b[39m _parse_path(raw_dataset_path)\n\u001b[0;32m    331\u001b[0m \u001b[39mif\u001b[39;00m mode \u001b[39m==\u001b[39m \u001b[39m\"\u001b[39m\u001b[39mr\u001b[39m\u001b[39m\"\u001b[39m:\n\u001b[1;32m--> 332\u001b[0m     dataset \u001b[39m=\u001b[39m DatasetReader(path, driver\u001b[39m=\u001b[39;49mdriver, sharing\u001b[39m=\u001b[39;49msharing, \u001b[39m*\u001b[39;49m\u001b[39m*\u001b[39;49mkwargs)\n\u001b[0;32m    333\u001b[0m \u001b[39melif\u001b[39;00m mode \u001b[39m==\u001b[39m \u001b[39m\"\u001b[39m\u001b[39mr+\u001b[39m\u001b[39m\"\u001b[39m:\n\u001b[0;32m    334\u001b[0m     dataset \u001b[39m=\u001b[39m get_writer_for_path(path, driver\u001b[39m=\u001b[39mdriver)(\n\u001b[0;32m    335\u001b[0m         path, mode, driver\u001b[39m=\u001b[39mdriver, sharing\u001b[39m=\u001b[39msharing, \u001b[39m*\u001b[39m\u001b[39m*\u001b[39mkwargs\n\u001b[0;32m    336\u001b[0m     )\n",
      "File \u001b[1;32mrasterio\\_base.pyx:309\u001b[0m, in \u001b[0;36mrasterio._base.DatasetBase.__init__\u001b[1;34m()\u001b[0m\n",
      "\u001b[1;31mRasterioIOError\u001b[0m: ./Downloads/data/Tile D5/Planet_D5_FullScene/20170929_145600-01_Mosaic_clip.tif: No such file or directory"
     ]
    }
   ],
   "source": [
    "img = rasterio.open(fp)\n",
    "img.read()\n",
    "\n",
    "shp = rasterio.open('data/buffered_shp/BUF_Tile_D4.shp')\n",
    "\n",
    "fst, _, _ = rasterio.mask.raster_geometry_mask(img, shp.read(), crop=False).transform\n",
    "print(fst)\n",
    "#mask = Image.fromarray(tu*255) #\n",
    "# print(PNG_PATH + png_save_name) #For model - imread slice last channel\n",
    "#mask = mask.convert('RGB')\n",
    "fst.save(\"\\buffered_shp\\BUF_test.tif\")"
   ]
  },
  {
   "cell_type": "code",
   "execution_count": null,
   "metadata": {},
   "outputs": [],
   "source": [
    "#generate xyz\n",
    "processing.run(\"qgis:tilesxyzdirectory\", {})"
   ]
  }
 ],
 "metadata": {
  "kernelspec": {
   "display_name": "test",
   "language": "python",
   "name": "python3"
  },
  "language_info": {
   "codemirror_mode": {
    "name": "ipython",
    "version": 3
   },
   "file_extension": ".py",
   "mimetype": "text/x-python",
   "name": "python",
   "nbconvert_exporter": "python",
   "pygments_lexer": "ipython3",
   "version": "3.8.15 (default, Nov 24 2022, 14:38:14) [MSC v.1916 64 bit (AMD64)]"
  },
  "orig_nbformat": 4,
  "vscode": {
   "interpreter": {
    "hash": "fc03afbbba0e92ae3b961b7bc5b0f89df28c63a4d02ad890761bddccd457d765"
   }
  }
 },
 "nbformat": 4,
 "nbformat_minor": 2
}
