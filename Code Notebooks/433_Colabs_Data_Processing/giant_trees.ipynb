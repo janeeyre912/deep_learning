{
 "cells": [
  {
   "cell_type": "markdown",
   "metadata": {},
   "source": [
    "## Planet Data WGS84/UTM 18N (EPSG:32618)\n",
    "Image from Mozaic C4 planet data, and shapefile. The precision of this satelites images are 3m pixels at ground and the image size is 1668 x 1668"
   ]
  },
  {
   "cell_type": "code",
   "execution_count": 29,
   "metadata": {},
   "outputs": [
    {
     "name": "stdout",
     "output_type": "stream",
     "text": [
      "Requirement already satisfied: geopandas in c:\\users\\miche\\anaconda3dec\\envs\\test\\lib\\site-packages (0.12.2)\n",
      "Requirement already satisfied: packaging in c:\\users\\miche\\anaconda3dec\\envs\\test\\lib\\site-packages (from geopandas) (21.3)\n",
      "Requirement already satisfied: shapely>=1.7 in c:\\users\\miche\\anaconda3dec\\envs\\test\\lib\\site-packages (from geopandas) (1.8.5.post1)\n",
      "Requirement already satisfied: fiona>=1.8 in c:\\users\\miche\\anaconda3dec\\envs\\test\\lib\\site-packages (from geopandas) (1.8.22)\n",
      "Requirement already satisfied: pandas>=1.0.0 in c:\\users\\miche\\anaconda3dec\\envs\\test\\lib\\site-packages (from geopandas) (1.5.2)\n",
      "Requirement already satisfied: pyproj>=2.6.1.post1 in c:\\users\\miche\\anaconda3dec\\envs\\test\\lib\\site-packages (from geopandas) (3.4.0)\n",
      "Requirement already satisfied: click-plugins>=1.0 in c:\\users\\miche\\anaconda3dec\\envs\\test\\lib\\site-packages (from fiona>=1.8->geopandas) (1.1.1)\n",
      "Requirement already satisfied: munch in c:\\users\\miche\\anaconda3dec\\envs\\test\\lib\\site-packages (from fiona>=1.8->geopandas) (2.5.0)\n",
      "Requirement already satisfied: setuptools in c:\\users\\miche\\anaconda3dec\\envs\\test\\lib\\site-packages (from fiona>=1.8->geopandas) (65.5.0)\n",
      "Requirement already satisfied: click>=4.0 in c:\\users\\miche\\anaconda3dec\\envs\\test\\lib\\site-packages (from fiona>=1.8->geopandas) (8.1.3)\n",
      "Requirement already satisfied: certifi in c:\\users\\miche\\anaconda3dec\\envs\\test\\lib\\site-packages (from fiona>=1.8->geopandas) (2022.9.24)\n",
      "Requirement already satisfied: attrs>=17 in c:\\users\\miche\\anaconda3dec\\envs\\test\\lib\\site-packages (from fiona>=1.8->geopandas) (22.1.0)\n",
      "Requirement already satisfied: six>=1.7 in c:\\users\\miche\\anaconda3dec\\envs\\test\\lib\\site-packages (from fiona>=1.8->geopandas) (1.16.0)\n",
      "Requirement already satisfied: cligj>=0.5 in c:\\users\\miche\\anaconda3dec\\envs\\test\\lib\\site-packages (from fiona>=1.8->geopandas) (0.7.2)\n",
      "Requirement already satisfied: pytz>=2020.1 in c:\\users\\miche\\anaconda3dec\\envs\\test\\lib\\site-packages (from pandas>=1.0.0->geopandas) (2022.6)\n",
      "Requirement already satisfied: numpy>=1.20.3 in c:\\users\\miche\\anaconda3dec\\envs\\test\\lib\\site-packages (from pandas>=1.0.0->geopandas) (1.23.5)\n",
      "Requirement already satisfied: python-dateutil>=2.8.1 in c:\\users\\miche\\anaconda3dec\\envs\\test\\lib\\site-packages (from pandas>=1.0.0->geopandas) (2.8.2)\n",
      "Requirement already satisfied: pyparsing!=3.0.5,>=2.0.2 in c:\\users\\miche\\anaconda3dec\\envs\\test\\lib\\site-packages (from packaging->geopandas) (3.0.9)\n",
      "Requirement already satisfied: colorama in c:\\users\\miche\\anaconda3dec\\envs\\test\\lib\\site-packages (from click>=4.0->fiona>=1.8->geopandas) (0.4.5)\n"
     ]
    }
   ],
   "source": [
    "!pip install geopandas"
   ]
  },
  {
   "cell_type": "code",
   "execution_count": 30,
   "metadata": {},
   "outputs": [
    {
     "name": "stdout",
     "output_type": "stream",
     "text": [
      "Requirement already satisfied: rasterio in c:\\users\\miche\\anaconda3dec\\envs\\test\\lib\\site-packages (1.3.4)\n",
      "Requirement already satisfied: numpy>=1.18 in c:\\users\\miche\\anaconda3dec\\envs\\test\\lib\\site-packages (from rasterio) (1.23.5)\n",
      "Requirement already satisfied: affine in c:\\users\\miche\\anaconda3dec\\envs\\test\\lib\\site-packages (from rasterio) (2.3.1)\n",
      "Requirement already satisfied: setuptools in c:\\users\\miche\\anaconda3dec\\envs\\test\\lib\\site-packages (from rasterio) (65.5.0)\n",
      "Requirement already satisfied: click-plugins in c:\\users\\miche\\anaconda3dec\\envs\\test\\lib\\site-packages (from rasterio) (1.1.1)\n",
      "Requirement already satisfied: snuggs>=1.4.1 in c:\\users\\miche\\anaconda3dec\\envs\\test\\lib\\site-packages (from rasterio) (1.4.7)\n",
      "Requirement already satisfied: click>=4.0 in c:\\users\\miche\\anaconda3dec\\envs\\test\\lib\\site-packages (from rasterio) (8.1.3)\n",
      "Requirement already satisfied: cligj>=0.5 in c:\\users\\miche\\anaconda3dec\\envs\\test\\lib\\site-packages (from rasterio) (0.7.2)\n",
      "Requirement already satisfied: attrs in c:\\users\\miche\\anaconda3dec\\envs\\test\\lib\\site-packages (from rasterio) (22.1.0)\n",
      "Requirement already satisfied: certifi in c:\\users\\miche\\anaconda3dec\\envs\\test\\lib\\site-packages (from rasterio) (2022.9.24)\n",
      "Requirement already satisfied: colorama in c:\\users\\miche\\anaconda3dec\\envs\\test\\lib\\site-packages (from click>=4.0->rasterio) (0.4.5)\n",
      "Requirement already satisfied: pyparsing>=2.1.6 in c:\\users\\miche\\anaconda3dec\\envs\\test\\lib\\site-packages (from snuggs>=1.4.1->rasterio) (3.0.9)\n"
     ]
    }
   ],
   "source": [
    "! pip install rasterio"
   ]
  },
  {
   "cell_type": "code",
   "execution_count": 31,
   "metadata": {},
   "outputs": [
    {
     "name": "stdout",
     "output_type": "stream",
     "text": [
      "Requirement already satisfied: matplotlib in c:\\users\\miche\\anaconda3dec\\envs\\test\\lib\\site-packages (3.6.2)\n",
      "Requirement already satisfied: contourpy>=1.0.1 in c:\\users\\miche\\anaconda3dec\\envs\\test\\lib\\site-packages (from matplotlib) (1.0.6)\n",
      "Requirement already satisfied: cycler>=0.10 in c:\\users\\miche\\anaconda3dec\\envs\\test\\lib\\site-packages (from matplotlib) (0.11.0)\n",
      "Requirement already satisfied: numpy>=1.19 in c:\\users\\miche\\anaconda3dec\\envs\\test\\lib\\site-packages (from matplotlib) (1.23.5)\n",
      "Requirement already satisfied: kiwisolver>=1.0.1 in c:\\users\\miche\\anaconda3dec\\envs\\test\\lib\\site-packages (from matplotlib) (1.4.4)\n",
      "Requirement already satisfied: pillow>=6.2.0 in c:\\users\\miche\\anaconda3dec\\envs\\test\\lib\\site-packages (from matplotlib) (9.3.0)\n",
      "Requirement already satisfied: python-dateutil>=2.7 in c:\\users\\miche\\anaconda3dec\\envs\\test\\lib\\site-packages (from matplotlib) (2.8.2)\n",
      "Requirement already satisfied: packaging>=20.0 in c:\\users\\miche\\anaconda3dec\\envs\\test\\lib\\site-packages (from matplotlib) (21.3)\n",
      "Requirement already satisfied: fonttools>=4.22.0 in c:\\users\\miche\\anaconda3dec\\envs\\test\\lib\\site-packages (from matplotlib) (4.38.0)\n",
      "Requirement already satisfied: pyparsing>=2.2.1 in c:\\users\\miche\\anaconda3dec\\envs\\test\\lib\\site-packages (from matplotlib) (3.0.9)\n",
      "Requirement already satisfied: six>=1.5 in c:\\users\\miche\\anaconda3dec\\envs\\test\\lib\\site-packages (from python-dateutil>=2.7->matplotlib) (1.16.0)\n"
     ]
    }
   ],
   "source": [
    "!pip install matplotlib"
   ]
  },
  {
   "cell_type": "code",
   "execution_count": 32,
   "metadata": {},
   "outputs": [
    {
     "name": "stdout",
     "output_type": "stream",
     "text": [
      "Requirement already satisfied: numpy in c:\\users\\miche\\anaconda3dec\\envs\\test\\lib\\site-packages (1.23.5)\n"
     ]
    }
   ],
   "source": [
    "! pip install numpy"
   ]
  },
  {
   "cell_type": "code",
   "execution_count": 33,
   "metadata": {},
   "outputs": [],
   "source": [
    "import geopandas as gpd\n",
    "import matplotlib.pyplot as plt\n",
    "import numpy as np\n",
    "import rasterio\n",
    "\n",
    "from rasterio.plot import show"
   ]
  },
  {
   "cell_type": "code",
   "execution_count": 34,
   "metadata": {},
   "outputs": [],
   "source": [
    "##############\n",
    "# PLANET Viz\n",
    "###########"
   ]
  },
  {
   "cell_type": "code",
   "execution_count": 35,
   "metadata": {},
   "outputs": [],
   "source": [
    "# fp = r'data/Tile D5/Planet_D5_FullScene/20170929_145600-01_Mosaic_clip.tif' \n",
    "# #'data/Tile C4/Planet_C4_FullScene/20170501_145608-07_Mosaic_Clip.tif'\n",
    "# shape_file = 'data\\\\Tile D5\\\\GTD_Trees_Location_D5.shp'\n",
    "# #'data/Tile D5/GTD_Trees_Locations_D5.shp'\n",
    "\n",
    "# planet_img = rasterio.open(fp)\n",
    "# geo_points = gpd.read_file(shape_file)\n",
    "# planet_img.crs, geo_points.crs"
   ]
  },
  {
   "cell_type": "code",
   "execution_count": 36,
   "metadata": {},
   "outputs": [],
   "source": [
    "def np_points(geo_points, geo_img):\n",
    "  width, height = geo_img.shape\n",
    "  left, bottom, right, top = geo_img.bounds\n",
    "\n",
    "  if geo_img.crs.to_string() != geo_points.crs.to_string():\n",
    "    geo_points = geo_points.to_crs(geo_img.crs.to_string())\n",
    "  new_points = geo_points.geometry.translate(xoff=-left, yoff=-bottom, zoff=0.0)\n",
    "\n",
    "  x_ratio = float(width) / (right - left)\n",
    "  y_ratio = float(height) / (top - bottom)\n",
    "\n",
    "  new_points = new_points.affine_transform([x_ratio, 0, 0, -y_ratio, 0, height])\n",
    "  return np.array([[int(point.x), int(point.y)] for point in new_points.geometry.tolist()])"
   ]
  },
  {
   "cell_type": "code",
   "execution_count": 37,
   "metadata": {},
   "outputs": [],
   "source": [
    "# f, ax = plt.subplots(figsize=(10, 10))\n",
    "# show(planet_img, ax=ax)\n",
    "# geo_points.plot(ax=ax, c='r')\n",
    "# plt.show()"
   ]
  },
  {
   "cell_type": "code",
   "execution_count": 38,
   "metadata": {},
   "outputs": [],
   "source": [
    "# points = np_points(geo_points, planet_img)\n",
    "\n",
    "# f, ax = plt.subplots(1, 4, figsize=(40, 10))\n",
    "\n",
    "# for i in range(4):\n",
    "#   ax[i].imshow(planet_img.read(i+1))\n",
    "#   ax[i].scatter(points.T[0], points.T[1], c='r')"
   ]
  },
  {
   "cell_type": "markdown",
   "metadata": {},
   "source": [
    "## Sentinel-2 Data\n",
    "Let's show the same tile Mozaic C4 from Sentinel-2 data, and sameshapefile. The precision of this satelites images are 10m pixels at ground and the image size is 509 x 508. The crs is epsg:32617, that means that we must convert the data to be at the same CRS. "
   ]
  },
  {
   "cell_type": "code",
   "execution_count": 39,
   "metadata": {},
   "outputs": [],
   "source": [
    "# fp = r'data/Tile C4/Sentinel_C4/S2A_MSIL1C_20170716T153621_N0205_R068_T17NRJ_20170716T154039_Visual_clip.tif'\n",
    "# sentinel_img = rasterio.open(fp)\n",
    "# sentinel_img.crs.to_string(), geo_points.crs.to_string(), sentinel_img.shape"
   ]
  },
  {
   "cell_type": "code",
   "execution_count": 40,
   "metadata": {},
   "outputs": [],
   "source": [
    "# f, ax = plt.subplots(figsize=(10, 10))\n",
    "# show(sentinel_img, ax=ax)\n",
    "\n",
    "# sentinel_points = geo_points.to_crs(sentinel_img.crs.to_string())\n",
    "# sentinel_points.plot(ax=ax, c='r')\n",
    "# plt.show()"
   ]
  },
  {
   "cell_type": "code",
   "execution_count": 41,
   "metadata": {},
   "outputs": [],
   "source": [
    "# points = np_points(geo_points, sentinel_img)\n",
    "\n",
    "# f, ax = plt.subplots(1, 4, figsize=(40, 10))\n",
    "\n",
    "# for i in range(4):\n",
    "#   ax[i].imshow(sentinel_img.read(i+1))\n",
    "#   ax[i].scatter(points.T[0], points.T[1], c='r')"
   ]
  },
  {
   "cell_type": "markdown",
   "metadata": {},
   "source": [
    "## Dataset creation"
   ]
  },
  {
   "cell_type": "code",
   "execution_count": 42,
   "metadata": {},
   "outputs": [
    {
     "name": "stdout",
     "output_type": "stream",
     "text": [
      "Requirement already satisfied: torch in c:\\users\\miche\\anaconda3dec\\envs\\test\\lib\\site-packages (1.13.0)\n",
      "Requirement already satisfied: typing_extensions in c:\\users\\miche\\anaconda3dec\\envs\\test\\lib\\site-packages (from torch) (4.4.0)\n"
     ]
    }
   ],
   "source": [
    "! pip install torch"
   ]
  },
  {
   "cell_type": "code",
   "execution_count": 43,
   "metadata": {},
   "outputs": [],
   "source": [
    "import torch"
   ]
  },
  {
   "cell_type": "code",
   "execution_count": 44,
   "metadata": {},
   "outputs": [],
   "source": [
    "import glob\n",
    "import pandas as pd\n",
    "\n",
    "from torch.utils.data import Dataset"
   ]
  },
  {
   "cell_type": "code",
   "execution_count": 45,
   "metadata": {},
   "outputs": [],
   "source": [
    "DATA_PATH = 'data'\n",
    "data_map = []\n",
    "pla_map = []\n",
    "\n",
    "for tile in glob.glob(f'{DATA_PATH}/Tile *'):\n",
    "  shape_files = glob.glob(f'{tile}/*.shp')\n",
    "  if len(shape_files) == 0:\n",
    "    continue\n",
    "\n",
    "  for planet_img in glob.glob(f'{tile}/Planet_*_FullScene/*.tif'):\n",
    "    data_map.extend([planet_img, shape_files[0]])\n",
    "    pla_map.append(planet_img)\n",
    "  \n",
    "#   for sentinel_img in glob.glob(f'{tile}/Sentinel_*/*.tif'):\n",
    "#     data_map.extend([sentinel_img, shape_files[0]])\n",
    "\n",
    "# print(data_map[1::2])\n",
    "\n",
    "df = pd.DataFrame({'img_path': data_map[::2], 'shape_path': data_map[1::2]})\n",
    "#df.shape\n",
    "#len(data_map)\n",
    "#print(pla_map)"
   ]
  },
  {
   "cell_type": "code",
   "execution_count": 46,
   "metadata": {},
   "outputs": [
    {
     "data": {
      "text/html": [
       "<div>\n",
       "<style scoped>\n",
       "    .dataframe tbody tr th:only-of-type {\n",
       "        vertical-align: middle;\n",
       "    }\n",
       "\n",
       "    .dataframe tbody tr th {\n",
       "        vertical-align: top;\n",
       "    }\n",
       "\n",
       "    .dataframe thead th {\n",
       "        text-align: right;\n",
       "    }\n",
       "</style>\n",
       "<table border=\"1\" class=\"dataframe\">\n",
       "  <thead>\n",
       "    <tr style=\"text-align: right;\">\n",
       "      <th></th>\n",
       "      <th>img_path</th>\n",
       "      <th>shape_path</th>\n",
       "    </tr>\n",
       "  </thead>\n",
       "  <tbody>\n",
       "    <tr>\n",
       "      <th>0</th>\n",
       "      <td>data\\Tile C4\\Planet_C4_FullScene\\20170501_1456...</td>\n",
       "      <td>data\\Tile C4\\GTD_Trees_Locations_C4.shp</td>\n",
       "    </tr>\n",
       "    <tr>\n",
       "      <th>1</th>\n",
       "      <td>data\\Tile C4\\Planet_C4_FullScene\\20190924_1519...</td>\n",
       "      <td>data\\Tile C4\\GTD_Trees_Locations_C4.shp</td>\n",
       "    </tr>\n",
       "    <tr>\n",
       "      <th>2</th>\n",
       "      <td>data\\Tile C4\\Planet_C4_FullScene\\20190925_1436...</td>\n",
       "      <td>data\\Tile C4\\GTD_Trees_Locations_C4.shp</td>\n",
       "    </tr>\n",
       "    <tr>\n",
       "      <th>3</th>\n",
       "      <td>data\\Tile C4\\Planet_C4_FullScene\\20191006_1433...</td>\n",
       "      <td>data\\Tile C4\\GTD_Trees_Locations_C4.shp</td>\n",
       "    </tr>\n",
       "    <tr>\n",
       "      <th>4</th>\n",
       "      <td>data\\Tile C4\\Planet_C4_FullScene\\20200604_1352...</td>\n",
       "      <td>data\\Tile C4\\GTD_Trees_Locations_C4.shp</td>\n",
       "    </tr>\n",
       "  </tbody>\n",
       "</table>\n",
       "</div>"
      ],
      "text/plain": [
       "                                            img_path  \\\n",
       "0  data\\Tile C4\\Planet_C4_FullScene\\20170501_1456...   \n",
       "1  data\\Tile C4\\Planet_C4_FullScene\\20190924_1519...   \n",
       "2  data\\Tile C4\\Planet_C4_FullScene\\20190925_1436...   \n",
       "3  data\\Tile C4\\Planet_C4_FullScene\\20191006_1433...   \n",
       "4  data\\Tile C4\\Planet_C4_FullScene\\20200604_1352...   \n",
       "\n",
       "                                shape_path  \n",
       "0  data\\Tile C4\\GTD_Trees_Locations_C4.shp  \n",
       "1  data\\Tile C4\\GTD_Trees_Locations_C4.shp  \n",
       "2  data\\Tile C4\\GTD_Trees_Locations_C4.shp  \n",
       "3  data\\Tile C4\\GTD_Trees_Locations_C4.shp  \n",
       "4  data\\Tile C4\\GTD_Trees_Locations_C4.shp  "
      ]
     },
     "execution_count": 46,
     "metadata": {},
     "output_type": "execute_result"
    }
   ],
   "source": [
    "df.head()"
   ]
  },
  {
   "cell_type": "code",
   "execution_count": 47,
   "metadata": {},
   "outputs": [
    {
     "name": "stdout",
     "output_type": "stream",
     "text": [
      "Requirement already satisfied: pip in c:\\users\\miche\\anaconda3dec\\envs\\test\\lib\\site-packages (22.3.1)\n",
      "Requirement already satisfied: Pillow in c:\\users\\miche\\anaconda3dec\\envs\\test\\lib\\site-packages (9.3.0)\n"
     ]
    }
   ],
   "source": [
    "!pip install --upgrade pip\n",
    "!pip install --upgrade Pillow"
   ]
  },
  {
   "cell_type": "code",
   "execution_count": 48,
   "metadata": {},
   "outputs": [
    {
     "ename": "NameError",
     "evalue": "name 'geo_points' is not defined",
     "output_type": "error",
     "traceback": [
      "\u001b[1;31m---------------------------------------------------------------------------\u001b[0m",
      "\u001b[1;31mNameError\u001b[0m                                 Traceback (most recent call last)",
      "Cell \u001b[1;32mIn [48], line 3\u001b[0m\n\u001b[0;32m      1\u001b[0m \u001b[39m# d5_img = r'data/Tile D5/Planet_D5_FullScene/20170929_145600-01_Mosaic_clip.tif'\u001b[39;00m\n\u001b[0;32m      2\u001b[0m \u001b[39m# d5_shp = 'data\\\\Tile D5\\\\GTD_Trees_Location_D5.shp'\u001b[39;00m\n\u001b[1;32m----> 3\u001b[0m points \u001b[39m=\u001b[39m np_points(geo_points, planet_img)\n\u001b[0;32m      5\u001b[0m f, ax \u001b[39m=\u001b[39m plt\u001b[39m.\u001b[39msubplots(\u001b[39m1\u001b[39m, \u001b[39m4\u001b[39m, figsize\u001b[39m=\u001b[39m(\u001b[39m40\u001b[39m, \u001b[39m10\u001b[39m))\n\u001b[0;32m      7\u001b[0m \u001b[39mfor\u001b[39;00m i \u001b[39min\u001b[39;00m \u001b[39mrange\u001b[39m(\u001b[39m4\u001b[39m):\n",
      "\u001b[1;31mNameError\u001b[0m: name 'geo_points' is not defined"
     ]
    }
   ],
   "source": [
    "# # d5_img = r'data/Tile D5/Planet_D5_FullScene/20170929_145600-01_Mosaic_clip.tif'\n",
    "# # d5_shp = 'data\\\\Tile D5\\\\GTD_Trees_Location_D5.shp'\n",
    "# points = np_points(geo_points, planet_img)\n",
    "\n",
    "# f, ax = plt.subplots(1, 4, figsize=(40, 10))\n",
    "\n",
    "# for i in range(4):\n",
    "#   ax[i].imshow(planet_img.read(i+1))\n",
    "#   ax[i].scatter(points.T[0], points.T[1], c='r')"
   ]
  },
  {
   "cell_type": "code",
   "execution_count": 51,
   "metadata": {},
   "outputs": [],
   "source": [
    "RADIUS = 5\n",
    "# dummy function\n",
    "def create_circular_mask(radius=5):\n",
    "  center = (radius, radius)\n",
    "  Y, X = np.ogrid[:radius*2 + 1, :radius*2 + 1]\n",
    "  dist_from_center = np.sqrt((X - center[0])**2 + (Y-center[1])**2)\n",
    "\n",
    "  mask = np.zeros((2*radius + 1, 2*radius + 1))\n",
    "  mask[dist_from_center <= radius] = 1\n",
    "  return mask"
   ]
  },
  {
   "cell_type": "code",
   "execution_count": 52,
   "metadata": {},
   "outputs": [
    {
     "name": "stdout",
     "output_type": "stream",
     "text": [
      "[[0. 0. 0. 0. 0. 1. 0. 0. 0. 0. 0.]\n",
      " [0. 0. 1. 1. 1. 1. 1. 1. 1. 0. 0.]\n",
      " [0. 1. 1. 1. 1. 1. 1. 1. 1. 1. 0.]\n",
      " [0. 1. 1. 1. 1. 1. 1. 1. 1. 1. 0.]\n",
      " [0. 1. 1. 1. 1. 1. 1. 1. 1. 1. 0.]\n",
      " [1. 1. 1. 1. 1. 1. 1. 1. 1. 1. 1.]\n",
      " [0. 1. 1. 1. 1. 1. 1. 1. 1. 1. 0.]\n",
      " [0. 1. 1. 1. 1. 1. 1. 1. 1. 1. 0.]\n",
      " [0. 1. 1. 1. 1. 1. 1. 1. 1. 1. 0.]\n",
      " [0. 0. 1. 1. 1. 1. 1. 1. 1. 0. 0.]\n",
      " [0. 0. 0. 0. 0. 1. 0. 0. 0. 0. 0.]]\n"
     ]
    },
    {
     "data": {
      "text/plain": [
       "<matplotlib.image.AxesImage at 0x21068eb3220>"
      ]
     },
     "execution_count": 52,
     "metadata": {},
     "output_type": "execute_result"
    },
    {
     "data": {
      "image/png": "[encoded data removed]",
      "text/plain": [
       "<Figure size 640x480 with 1 Axes>"
      ]
     },
     "metadata": {},
     "output_type": "display_data"
    }
   ],
   "source": [
    "circle = create_circular_mask(RADIUS)\n",
    "print(circle)\n",
    "plt.imshow(circle)"
   ]
  },
  {
   "cell_type": "code",
   "execution_count": 53,
   "metadata": {},
   "outputs": [],
   "source": [
    "RADIUS = 2 # unit? \n",
    "\n",
    "def create_mask(geo_points, geo_img):\n",
    "    \n",
    "    points = np_points(geo_points, geo_img).tolist()\n",
    "    mask = np.zeros(geo_img.shape)\n",
    "    #print(points)\n",
    "    #print(mask)\n",
    "    #print(mask.shape)\n",
    "    \n",
    "    for x, y in points:\n",
    "        #print(RADIUS)\n",
    "        #print(\"in the for: \", mask[y - RADIUS: y + RADIUS + 1, x - RADIUS : x + RADIUS + 1].shape)\n",
    "        #print(\"before\", circle)\n",
    "        \n",
    "        # row cutoff edge case / 2nd x val too large => 1st x val needs to be handled?\n",
    "        #if mask[x - RADIUS : x + RADIUS + 1] > circle[]\n",
    "        if ((y + RADIUS + 1) - 1668) > 0 :\n",
    "            mask[y - RADIUS: y + RADIUS + 1, x - RADIUS : x + RADIUS + 1] = circle[:-((y + RADIUS + 1) - 1668), :]\n",
    "            #print(\"rad 2\", (y + RADIUS + 1))\n",
    "        if ((x + RADIUS + 1) - 1668) > 0 : #col cutoff case (2nd val)\n",
    "            mask[y - RADIUS: y + RADIUS + 1, x - RADIUS : x + RADIUS + 1] = circle[:, :-((x + RADIUS + 1)- 1668)]\n",
    "            #print(x + RADIUS + 1)\n",
    "        \n",
    "        elif ((y + RADIUS + 1) - 1668) <= 0:\n",
    "            #print(\"hi\", ((y + RADIUS + 1) - 1668))\n",
    "            \n",
    "            mask[y - RADIUS: y + RADIUS + 1, x - RADIUS : x + RADIUS + 1] = circle\n",
    "        #print(circle)\n",
    "    f, ax = plt.subplots(figsize=(40, 10))\n",
    "    plt.imshow(mask)\n",
    "        \n",
    "    return mask"
   ]
  },
  {
   "cell_type": "code",
   "execution_count": null,
   "metadata": {},
   "outputs": [
    {
     "data": {
      "text/plain": [
       "(CRS.from_epsg(32618),\n",
       " <Derived Projected CRS: PROJCRS[\"WGS 84 / UTM zone 18N\",BASEGEOGCRS[\"WGS 8 ...>\n",
       " Name: WGS 84 / UTM zone 18N\n",
       " Axis Info [cartesian]:\n",
       " - E[east]: Easting (metre)\n",
       " - N[north]: Northing (metre)\n",
       " - h[up]: Ellipsoidal height (metre)\n",
       " Area of Use:\n",
       " - undefined\n",
       " Coordinate Operation:\n",
       " - name: UTM zone 18N\n",
       " - method: Transverse Mercator\n",
       " Datum: World Geodetic System 1984\n",
       " - Ellipsoid: WGS 84\n",
       " - Prime Meridian: Greenwich)"
      ]
     },
     "execution_count": 197,
     "metadata": {},
     "output_type": "execute_result"
    }
   ],
   "source": [
    "# fp = r'data/Tile D5/Planet_D5_FullScene/20170929_145600-01_Mosaic_clip.tif' \n",
    "# #'data/Tile C4/Planet_C4_FullScene/20170501_145608-07_Mosaic_Clip.tif'\n",
    "# shape_file = 'data\\\\Tile D5\\\\GTD_Trees_Location_D5.shp'\n",
    "# #'data/Tile D5/GTD_Trees_Locations_D5.shp'\n",
    "\n",
    "# planet_img = rasterio.open(fp)\n",
    "# geo_points = gpd.read_file(shape_file)\n",
    "# planet_img.crs, geo_points.crs"
   ]
  },
  {
   "cell_type": "code",
   "execution_count": 54,
   "metadata": {},
   "outputs": [
    {
     "ename": "NameError",
     "evalue": "name 'geo_points' is not defined",
     "output_type": "error",
     "traceback": [
      "\u001b[1;31m---------------------------------------------------------------------------\u001b[0m",
      "\u001b[1;31mNameError\u001b[0m                                 Traceback (most recent call last)",
      "Cell \u001b[1;32mIn [54], line 7\u001b[0m\n\u001b[0;32m      2\u001b[0m \u001b[39mfrom\u001b[39;00m \u001b[39mPIL\u001b[39;00m \u001b[39mimport\u001b[39;00m Image\n\u001b[0;32m      4\u001b[0m \u001b[39m### testing the rw of 1 sentinel image\u001b[39;00m\n\u001b[0;32m      5\u001b[0m \u001b[39m# fp = r'data/Tile C4/Sentinel_C4/S2A_MSIL1C_20170716T153621_N0205_R068_T17NRJ_20170716T154039_Visual_clip.tif'\u001b[39;00m\n\u001b[0;32m      6\u001b[0m \u001b[39m# sentinel_img = rasterio.open(fp)\u001b[39;00m\n\u001b[1;32m----> 7\u001b[0m mask \u001b[39m=\u001b[39m create_mask(geo_points, planet_img)\n\u001b[0;32m      8\u001b[0m mask \u001b[39m=\u001b[39m mask\u001b[39m.\u001b[39mastype(\u001b[39m'\u001b[39m\u001b[39muint8\u001b[39m\u001b[39m'\u001b[39m)\n",
      "\u001b[1;31mNameError\u001b[0m: name 'geo_points' is not defined"
     ]
    }
   ],
   "source": [
    "import matplotlib.image as mpimg \n",
    "from PIL import Image\n",
    "\n",
    "### testing the rw of 1 sentinel image\n",
    "# fp = r'data/Tile C4/Sentinel_C4/S2A_MSIL1C_20170716T153621_N0205_R068_T17NRJ_20170716T154039_Visual_clip.tif'\n",
    "# sentinel_img = rasterio.open(fp)\n",
    "#### SINGLE IMG TEST #####\n",
    "# mask = create_mask(geo_points, planet_img)\n",
    "# mask = mask.astype('uint8')\n",
    "#############\n",
    "# plt.imshow(mask)\n",
    "# print(np.unique(mask))\n",
    "# mask = Image.fromarray(mask*255) # for visualization\n",
    "# mask.save('data/pngs/IMG1.png')\n",
    "# plt.savefig(mask.astype('bool'), format = 'png')"
   ]
  },
  {
   "cell_type": "code",
   "execution_count": null,
   "metadata": {},
   "outputs": [
    {
     "ename": "NameError",
     "evalue": "name 'df' is not defined",
     "output_type": "error",
     "traceback": [
      "\u001b[1;31m---------------------------------------------------------------------------\u001b[0m",
      "\u001b[1;31mNameError\u001b[0m                                 Traceback (most recent call last)",
      "Cell \u001b[1;32mIn [1], line 1\u001b[0m\n\u001b[1;32m----> 1\u001b[0m \u001b[39mprint\u001b[39m(df\u001b[39m.\u001b[39miloc[:\u001b[39m16\u001b[39m])\n",
      "\u001b[1;31mNameError\u001b[0m: name 'df' is not defined"
     ]
    }
   ],
   "source": [
    "# print(df.iloc[:16])"
   ]
  },
  {
   "cell_type": "code",
   "execution_count": 55,
   "metadata": {},
   "outputs": [
    {
     "name": "stdout",
     "output_type": "stream",
     "text": [
      "0\n",
      "<open DatasetReader name='data\\Tile C4\\Planet_C4_FullScene\\20170501_145608-07_Mosaic_Clip.tif' mode='r'>\n",
      "   OBJECTID_1  OBJECTID  Note   ID       Lat        Lon  Site  \\\n",
      "0           1       174  None  163  7.858533 -77.865093  None   \n",
      "1           2       175  None  164  7.858077 -77.869946  None   \n",
      "\n",
      "                        geometry  \n",
      "0  POINT (184033.554 869739.383)  \n",
      "1  POINT (183497.639 869692.519)  \n"
     ]
    },
    {
     "ename": "OSError",
     "evalue": "exception: access violation reading 0xFFFFFFFFFFFFFFFF",
     "output_type": "error",
     "traceback": [
      "\u001b[1;31m---------------------------------------------------------------------------\u001b[0m",
      "\u001b[1;31mOSError\u001b[0m                                   Traceback (most recent call last)",
      "Cell \u001b[1;32mIn [55], line 27\u001b[0m\n\u001b[0;32m     23\u001b[0m         mask\u001b[39m.\u001b[39msave(TIF_PATH \u001b[39m+\u001b[39m tiff_name)\n\u001b[0;32m     25\u001b[0m \u001b[39m#     return image, mask\u001b[39;00m\n\u001b[1;32m---> 27\u001b[0m generate_pngs()\n",
      "Cell \u001b[1;32mIn [55], line 18\u001b[0m, in \u001b[0;36mgenerate_pngs\u001b[1;34m()\u001b[0m\n\u001b[0;32m     16\u001b[0m geo_points \u001b[39m=\u001b[39m gpd\u001b[39m.\u001b[39mread_file(df\u001b[39m.\u001b[39miloc[idx, \u001b[39m1\u001b[39m])\n\u001b[0;32m     17\u001b[0m \u001b[39mprint\u001b[39m(geo_points)\n\u001b[1;32m---> 18\u001b[0m mask \u001b[39m=\u001b[39m create_mask(geo_points, geo_img)\n\u001b[0;32m     20\u001b[0m mask \u001b[39m=\u001b[39m Image\u001b[39m.\u001b[39mfromarray(mask\u001b[39m*\u001b[39m\u001b[39m255\u001b[39m) \u001b[39m# for visualization\u001b[39;00m\n\u001b[0;32m     21\u001b[0m \u001b[39m# print(PNG_PATH + png_save_name) #For model - imread slice last channel\u001b[39;00m\n",
      "Cell \u001b[1;32mIn [53], line 5\u001b[0m, in \u001b[0;36mcreate_mask\u001b[1;34m(geo_points, geo_img)\u001b[0m\n\u001b[0;32m      3\u001b[0m \u001b[39mdef\u001b[39;00m \u001b[39mcreate_mask\u001b[39m(geo_points, geo_img):\n\u001b[1;32m----> 5\u001b[0m     points \u001b[39m=\u001b[39m np_points(geo_points, geo_img)\u001b[39m.\u001b[39mtolist()\n\u001b[0;32m      6\u001b[0m     mask \u001b[39m=\u001b[39m np\u001b[39m.\u001b[39mzeros(geo_img\u001b[39m.\u001b[39mshape)\n\u001b[0;32m      7\u001b[0m     \u001b[39m#print(points)\u001b[39;00m\n\u001b[0;32m      8\u001b[0m     \u001b[39m#print(mask)\u001b[39;00m\n\u001b[0;32m      9\u001b[0m     \u001b[39m#print(mask.shape)\u001b[39;00m\n",
      "Cell \u001b[1;32mIn [36], line 12\u001b[0m, in \u001b[0;36mnp_points\u001b[1;34m(geo_points, geo_img)\u001b[0m\n\u001b[0;32m      9\u001b[0m x_ratio \u001b[39m=\u001b[39m \u001b[39mfloat\u001b[39m(width) \u001b[39m/\u001b[39m (right \u001b[39m-\u001b[39m left)\n\u001b[0;32m     10\u001b[0m y_ratio \u001b[39m=\u001b[39m \u001b[39mfloat\u001b[39m(height) \u001b[39m/\u001b[39m (top \u001b[39m-\u001b[39m bottom)\n\u001b[1;32m---> 12\u001b[0m new_points \u001b[39m=\u001b[39m new_points\u001b[39m.\u001b[39;49maffine_transform([x_ratio, \u001b[39m0\u001b[39;49m, \u001b[39m0\u001b[39;49m, \u001b[39m-\u001b[39;49my_ratio, \u001b[39m0\u001b[39;49m, height])\n\u001b[0;32m     13\u001b[0m \u001b[39mreturn\u001b[39;00m np\u001b[39m.\u001b[39marray([[\u001b[39mint\u001b[39m(point\u001b[39m.\u001b[39mx), \u001b[39mint\u001b[39m(point\u001b[39m.\u001b[39my)] \u001b[39mfor\u001b[39;00m point \u001b[39min\u001b[39;00m new_points\u001b[39m.\u001b[39mgeometry\u001b[39m.\u001b[39mtolist()])\n",
      "File \u001b[1;32mc:\\Users\\miche\\anaconda3dec\\envs\\test\\lib\\site-packages\\geopandas\\base.py:3195\u001b[0m, in \u001b[0;36mGeoPandasBase.affine_transform\u001b[1;34m(self, matrix)\u001b[0m\n\u001b[0;32m   3155\u001b[0m \u001b[39mdef\u001b[39;00m \u001b[39maffine_transform\u001b[39m(\u001b[39mself\u001b[39m, matrix):\n\u001b[0;32m   3156\u001b[0m     \u001b[39m\"\"\"Return a ``GeoSeries`` with translated geometries.\u001b[39;00m\n\u001b[0;32m   3157\u001b[0m \n\u001b[0;32m   3158\u001b[0m \u001b[39m    See http://shapely.readthedocs.io/en/stable/manual.html#shapely.affinity.affine_transform\u001b[39;00m\n\u001b[1;32m   (...)\u001b[0m\n\u001b[0;32m   3193\u001b[0m \n\u001b[0;32m   3194\u001b[0m \u001b[39m    \"\"\"\u001b[39;00m  \u001b[39m# noqa (E501 link is longer than max line length)\u001b[39;00m\n\u001b[1;32m-> 3195\u001b[0m     \u001b[39mreturn\u001b[39;00m _delegate_geo_method(\u001b[39m\"\u001b[39;49m\u001b[39maffine_transform\u001b[39;49m\u001b[39m\"\u001b[39;49m, \u001b[39mself\u001b[39;49m, matrix)\n",
      "File \u001b[1;32mc:\\Users\\miche\\anaconda3dec\\envs\\test\\lib\\site-packages\\geopandas\\base.py:81\u001b[0m, in \u001b[0;36m_delegate_geo_method\u001b[1;34m(op, this, *args, **kwargs)\u001b[0m\n\u001b[0;32m     78\u001b[0m \u001b[39mfrom\u001b[39;00m \u001b[39m.\u001b[39;00m\u001b[39mgeoseries\u001b[39;00m \u001b[39mimport\u001b[39;00m GeoSeries\n\u001b[0;32m     80\u001b[0m a_this \u001b[39m=\u001b[39m GeometryArray(this\u001b[39m.\u001b[39mgeometry\u001b[39m.\u001b[39mvalues)\n\u001b[1;32m---> 81\u001b[0m data \u001b[39m=\u001b[39m \u001b[39mgetattr\u001b[39;49m(a_this, op)(\u001b[39m*\u001b[39;49margs, \u001b[39m*\u001b[39;49m\u001b[39m*\u001b[39;49mkwargs)\u001b[39m.\u001b[39mdata\n\u001b[0;32m     82\u001b[0m \u001b[39mreturn\u001b[39;00m GeoSeries(data, index\u001b[39m=\u001b[39mthis\u001b[39m.\u001b[39mindex, crs\u001b[39m=\u001b[39mthis\u001b[39m.\u001b[39mcrs)\n",
      "File \u001b[1;32mc:\\Users\\miche\\anaconda3dec\\envs\\test\\lib\\site-packages\\geopandas\\array.py:658\u001b[0m, in \u001b[0;36mGeometryArray.affine_transform\u001b[1;34m(self, matrix)\u001b[0m\n\u001b[0;32m    656\u001b[0m \u001b[39mdef\u001b[39;00m \u001b[39maffine_transform\u001b[39m(\u001b[39mself\u001b[39m, matrix):\n\u001b[0;32m    657\u001b[0m     \u001b[39mreturn\u001b[39;00m GeometryArray(\n\u001b[1;32m--> 658\u001b[0m         vectorized\u001b[39m.\u001b[39;49m_affinity_method(\u001b[39m\"\u001b[39;49m\u001b[39maffine_transform\u001b[39;49m\u001b[39m\"\u001b[39;49m, \u001b[39mself\u001b[39;49m\u001b[39m.\u001b[39;49mdata, matrix),\n\u001b[0;32m    659\u001b[0m         crs\u001b[39m=\u001b[39m\u001b[39mself\u001b[39m\u001b[39m.\u001b[39mcrs,\n\u001b[0;32m    660\u001b[0m     )\n",
      "File \u001b[1;32mc:\\Users\\miche\\anaconda3dec\\envs\\test\\lib\\site-packages\\geopandas\\_vectorized.py:452\u001b[0m, in \u001b[0;36m_affinity_method\u001b[1;34m(op, left, *args, **kwargs)\u001b[0m\n\u001b[0;32m    450\u001b[0m out \u001b[39m=\u001b[39m []\n\u001b[0;32m    451\u001b[0m \u001b[39mfor\u001b[39;00m geom \u001b[39min\u001b[39;00m left:\n\u001b[1;32m--> 452\u001b[0m     \u001b[39mif\u001b[39;00m geom \u001b[39mis\u001b[39;00m \u001b[39mNone\u001b[39;00m \u001b[39mor\u001b[39;00m geom\u001b[39m.\u001b[39;49mis_empty:\n\u001b[0;32m    453\u001b[0m         res \u001b[39m=\u001b[39m geom\n\u001b[0;32m    454\u001b[0m     \u001b[39melse\u001b[39;00m:\n",
      "File \u001b[1;32mc:\\Users\\miche\\anaconda3dec\\envs\\test\\lib\\site-packages\\shapely\\geometry\\base.py:718\u001b[0m, in \u001b[0;36mBaseGeometry.is_empty\u001b[1;34m(self)\u001b[0m\n\u001b[0;32m    715\u001b[0m \u001b[39m@property\u001b[39m\n\u001b[0;32m    716\u001b[0m \u001b[39mdef\u001b[39;00m \u001b[39mis_empty\u001b[39m(\u001b[39mself\u001b[39m):\n\u001b[0;32m    717\u001b[0m     \u001b[39m\"\"\"True if the set of points in this geometry is empty, else False\"\"\"\u001b[39;00m\n\u001b[1;32m--> 718\u001b[0m     \u001b[39mreturn\u001b[39;00m (\u001b[39mself\u001b[39m\u001b[39m.\u001b[39m_geom \u001b[39mis\u001b[39;00m \u001b[39mNone\u001b[39;00m) \u001b[39mor\u001b[39;00m \u001b[39mbool\u001b[39m(\u001b[39mself\u001b[39;49m\u001b[39m.\u001b[39;49mimpl[\u001b[39m'\u001b[39;49m\u001b[39mis_empty\u001b[39;49m\u001b[39m'\u001b[39;49m](\u001b[39mself\u001b[39;49m))\n",
      "File \u001b[1;32mc:\\Users\\miche\\anaconda3dec\\envs\\test\\lib\\site-packages\\shapely\\predicates.py:25\u001b[0m, in \u001b[0;36mUnaryPredicate.__call__\u001b[1;34m(self, this)\u001b[0m\n\u001b[0;32m     23\u001b[0m \u001b[39mdef\u001b[39;00m \u001b[39m__call__\u001b[39m(\u001b[39mself\u001b[39m, this):\n\u001b[0;32m     24\u001b[0m     \u001b[39mself\u001b[39m\u001b[39m.\u001b[39m_validate(this)\n\u001b[1;32m---> 25\u001b[0m     \u001b[39mreturn\u001b[39;00m \u001b[39mself\u001b[39;49m\u001b[39m.\u001b[39;49mfn(this\u001b[39m.\u001b[39;49m_geom)\n",
      "\u001b[1;31mOSError\u001b[0m: exception: access violation reading 0xFFFFFFFFFFFFFFFF"
     ]
    }
   ],
   "source": [
    "TIF_PATH = 'data/uncut_tif_masks/'\n",
    "def generate_pngs():\n",
    "    \n",
    "    for idx in df.index:\n",
    "        print(idx)\n",
    "#        print(data_map[idx])\n",
    "        tiff_name = pla_map[idx]\n",
    "        # png_save_name = tiff_name.split('\\\\')[-1].replace('.tif', '.tif')\n",
    "        # print(png_save_name)\n",
    "#        break\n",
    "        geo_img = rasterio.open(df.iloc[idx, 0]) #loop thru length of dataframe instead and pass idx \n",
    "    \n",
    "        print(geo_img)\n",
    "        image = geo_img.read()\n",
    "\n",
    "        geo_points = gpd.read_file(df.iloc[idx, 1])\n",
    "        print(geo_points)\n",
    "        mask = create_mask(geo_points, geo_img)\n",
    "        \n",
    "        mask = Image.fromarray(mask*255) # for visualization\n",
    "        # print(PNG_PATH + png_save_name) #For model - imread slice last channel\n",
    "        mask = mask.convert('RGB')\n",
    "        mask.save(TIF_PATH + tiff_name)\n",
    "\n",
    "#     return image, mask\n",
    "\n",
    "generate_pngs()"
   ]
  },
  {
   "cell_type": "code",
   "execution_count": null,
   "metadata": {},
   "outputs": [],
   "source": [
    "# PNG_PATH = 'data/pngs/'\n",
    "# def generate_pngs():\n",
    "    \n",
    "#     for idx in df.index:\n",
    "#         print(idx)\n",
    "# #        print(data_map[idx])\n",
    "#         tiff_name = pla_map[idx]\n",
    "#         png_save_name = tiff_name.split('\\\\')[-1].replace('.tif', '.png')\n",
    "#         print(png_save_name)\n",
    "# #        break\n",
    "#         geo_img = rasterio.open(df.iloc[idx, 0]) #loop thru length of dataframe instead and pass idx \n",
    "    \n",
    "#         print(geo_img)\n",
    "#         image = geo_img.read()\n",
    "\n",
    "#         geo_points = gpd.read_file(df.iloc[idx, 1])\n",
    "#         print(geo_points)\n",
    "#         mask = create_mask(geo_points, geo_img)\n",
    "        \n",
    "#         mask = Image.fromarray(mask*255) # for visualization\n",
    "#         # print(PNG_PATH + png_save_name) #For model - imread slice last channel\n",
    "#         mask = mask.convert('RGB')\n",
    "#         mask.save(PNG_PATH + png_save_name)\n",
    "\n",
    "# #     return image, mask\n",
    "\n",
    "# generate_pngs()"
   ]
  },
  {
   "cell_type": "code",
   "execution_count": null,
   "metadata": {},
   "outputs": [],
   "source": []
  },
  {
   "cell_type": "code",
   "execution_count": null,
   "metadata": {},
   "outputs": [],
   "source": [
    "###################\n",
    "# Model Dataloader #\n",
    "###################"
   ]
  },
  {
   "cell_type": "code",
   "execution_count": null,
   "metadata": {},
   "outputs": [],
   "source": [
    "class BigTreesDataset(Dataset):\n",
    "  def __init__(self, df) -> None:\n",
    "      super().__init__()\n",
    "      self.df = df\n",
    "\n",
    "  def __len__(self):\n",
    "    return len(self.df)\n",
    "\n",
    "  def __getitem__(self, idx):\n",
    "        pass \n",
    "#     geo_img = rasterio.open(self.df.iloc[idx, 0])\n",
    "#     image = geo_img.read()\n",
    "\n",
    "#     geo_points = gpd.read_file(self.df.iloc[idx, 1])\n",
    "#     mask = create_mask(geo_points, geo_img)\n",
    "\n",
    "#     return image, mask\n"
   ]
  },
  {
   "cell_type": "markdown",
   "metadata": {},
   "source": [
    "Until now we have two different size images, for planet and sentinel, and no transformation. The mask is represented as an aproximation point of the position of the giant trees. At the moment the images have 4 channels."
   ]
  },
  {
   "cell_type": "code",
   "execution_count": null,
   "metadata": {},
   "outputs": [],
   "source": []
  }
 ],
 "metadata": {
  "kernelspec": {
   "display_name": "test",
   "language": "python",
   "name": "python3"
  },
  "language_info": {
   "codemirror_mode": {
    "name": "ipython",
    "version": 3
   },
   "file_extension": ".py",
   "mimetype": "text/x-python",
   "name": "python",
   "nbconvert_exporter": "python",
   "pygments_lexer": "ipython3",
   "version": "3.8.15"
  },
  "vscode": {
   "interpreter": {
    "hash": "fc03afbbba0e92ae3b961b7bc5b0f89df28c63a4d02ad890761bddccd457d765"
   }
  }
 },
 "nbformat": 4,
 "nbformat_minor": 2
}
