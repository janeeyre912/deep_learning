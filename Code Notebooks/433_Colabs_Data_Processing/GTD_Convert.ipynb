{
  "nbformat": 4,
  "nbformat_minor": 0,
  "metadata": {
    "colab": {
      "provenance": []
    },
    "kernelspec": {
      "name": "python3",
      "display_name": "Python 3"
    },
    "language_info": {
      "name": "python"
    }
  },
  "cells": [
    {
      "cell_type": "code",
      "execution_count": 1,
      "metadata": {
        "id": "F9l-fUeM_tkd"
      },
      "outputs": [],
      "source": [
        "# import libraries\n",
        "import os\n",
        "import subprocess\n",
        "import shutil\n",
        "import fnmatch\n",
        "from osgeo import gdal\n",
        "import cv2"
      ]
    },
    {
      "cell_type": "code",
      "source": [
        "# function that splits Geotiffs into required pieces\n",
        "\n",
        "def create_tiles(src_path, dst_path):\n",
        "\n",
        "    # specify tile dimension\n",
        "    tile_size_x = 512\n",
        "    tile_size_y = 512\n",
        "\n",
        "    # dynamically get the image dimension\n",
        "    dataset = gdal.Open(src_path)\n",
        "    band = dataset.GetRasterBand(1) #1\n",
        "    xsize = band.XSize\n",
        "    ysize = band.YSize\n",
        "\n",
        "    # clip image using using tile_size and gdal_translate iteratively\n",
        "    for i in range(0, xsize, tile_size_x):\n",
        "        for j in range(0, ysize, tile_size_y):\n",
        "            com_string = \"gdal_translate -of GTIFF -srcwin \" + str(i) + \", \" + str(j) + \", \" + str(tile_size_x) + \", \" + str(tile_size_y) + \" \" + str(src_path) + \" \" + str(dst_path) + \"_\" + str(i) + \"_\" + str(j) + \".tif\" #.tif\n",
        "            os.system(com_string)"
      ],
      "metadata": {
        "id": "4A6JZwePvocj"
      },
      "execution_count": 58,
      "outputs": []
    },
    {
      "cell_type": "code",
      "source": [
        "# from google.colab import drive\n",
        "# drive.mount('/content/drive/')"
      ],
      "metadata": {
        "colab": {
          "base_uri": "https://localhost:8080/"
        },
        "id": "2E4RhXYhVLsx",
        "outputId": "8ad5c82f-bdfe-47c8-b139-ef7e4ad7d3e0"
      },
      "execution_count": 48,
      "outputs": [
        {
          "output_type": "stream",
          "name": "stdout",
          "text": [
            "Drive already mounted at /content/drive/; to attempt to forcibly remount, call drive.mount(\"/content/drive/\", force_remount=True).\n"
          ]
        }
      ]
    },
    {
      "cell_type": "code",
      "source": [
        "source_path = r\"/content/drive/MyDrive/gtif_to_png\"\n",
        "dest_path = r\"/content/drive/MyDrive/gtf\" # needs to exist\n",
        "sen_path = r\"/content/drive/MyDrive/gtf\"\n",
        "\n",
        "# splits all geotiff in input path folder\n",
        "def gtiff_split(src_path, dest_path):\n",
        "    for tile in glob.glob(f'{DATA_PATH}/Tile *'):\n",
        "      for pla in glob.glob(f'{tile}/Planet_*_FullScene/*.tif'):\n",
        "        dest_path1 = os.path.join(dest_path, pla[:-4])\n",
        "        os.mkdir(dest_path1)      \n",
        "        create_tiles(os.path.join(source_path, pla), os.path.join(dest_path1, pla[:-4]))\n",
        "      for sen in glob.glob(f'{tile}/Sentinel_*/*.tif'):\n",
        "        sen_path1 = os.path.join(sen_path, sen[:-4])\n",
        "        os.mkdir(sen_path1)      \n",
        "        create_tiles(os.path.join(source_path, sen), os.path.join(sen_path1, sen[:-4]))"
      ],
      "metadata": {
        "id": "dxF35uSrz2aA"
      },
      "execution_count": 62,
      "outputs": []
    },
    {
      "cell_type": "code",
      "source": [
        "# ## 1 folder\n",
        "#       for file in os.listdir(src_path): # all tifs in one dir\n",
        "#         # print(file[:-4])\n",
        "#         dest_path1 = os.path.join(dest_path, file[:-4])\n",
        "#         os.mkdir(dest_path1)      \n",
        "#         create_tiles(os.path.join(source_path, file), os.path.join(dest_path1, file[:-4]))\n",
        "#     print(f\"success! all files have been split\")"
      ],
      "metadata": {
        "id": "0XZAaddf_355"
      },
      "execution_count": null,
      "outputs": []
    },
    {
      "cell_type": "code",
      "source": [
        "gtiff_split(source_path, dest_path)"
      ],
      "metadata": {
        "colab": {
          "base_uri": "https://localhost:8080/"
        },
        "id": "dekHMRlZ7N5h",
        "outputId": "2f963fd7-a977-4811-fcf4-a28afc429aa4"
      },
      "execution_count": 63,
      "outputs": [
        {
          "output_type": "stream",
          "name": "stdout",
          "text": [
            "20170929_145600-01_Mosaic_clip\n",
            "20181014_152754_0f3b_3B_AnalyticMS_SR_clip\n",
            "20181004_151059-100_Mosaic_clip\n",
            "20180711_150702_1044_3B_AnalyticMS_SR_clip\n",
            "20190302_162738_89_106f_3B_AnalyticMS_SR_clip\n",
            "20200919_133726_1054_3B_AnalyticMS_SR_clip\n",
            "20201122_132436-37_Mosaic_clip\n",
            "20210213_150034-33_Mosaic_clip\n",
            "success! all files have been split\n"
          ]
        }
      ]
    },
    {
      "cell_type": "code",
      "source": [
        "# function converts geotiff to png files (8bit)\n",
        "def geotiff_to_png(input_tiff_img, output_png_img, output_pix_type='Byte', output_format='png', compress='png', percentiles=[2, 98]):\n",
        "\n",
        "    img_src = gdal.Open(input_tiff_img)\n",
        "\n",
        "    cmd = ['gdal_translate', '-ot', output_pix_type, '-of', output_format, '-co', compress]\n",
        "\n",
        "    for band_id in range(img_src.RasterCount):\n",
        "        band_id = band_id + 1\n",
        "        band = img_src.GetRasterBand(band_id)\n",
        "\n",
        "        # cal the band minimum and max values of raster\n",
        "        b_min = band.GetMinimum()\n",
        "        b_max = band.GetMaximum()\n",
        "\n",
        "        # if not exist minimum and maximum values\n",
        "        if b_min is None or b_max is None:\n",
        "            (b_min, b_max) = band.ComputeRasterMinMax(1)\n",
        "            if b_min == b_max:\n",
        "                b_min -= 1\n",
        "\n",
        "        cmd.append('-scale_{}'.format(band_id))\n",
        "        cmd.append('{}'.format(b_min))\n",
        "        cmd.append('{}'.format(b_max))\n",
        "        cmd.append('{}'.format(0))\n",
        "        cmd.append('{}'.format(255))\n",
        "\n",
        "    cmd.append(input_tiff_img)\n",
        "    cmd.append(output_png_img)\n",
        "    print(\"Conversion command:\", cmd)\n",
        "    subprocess.call(cmd)"
      ],
      "metadata": {
        "id": "0H9iQeXBeQm6"
      },
      "execution_count": 64,
      "outputs": []
    },
    {
      "cell_type": "code",
      "source": [
        "# function that activates the converter wrt geotiff in input path\n",
        "def converter(input_path, output_path):\n",
        "    # TODO: automate so its able to read all dirs in gtf\n",
        "    # convert each file to output\n",
        "    for file in os.listdir(input_path):\n",
        "      # TODO: mkdir new png_folder\n",
        "        geotiff_to_png(os.path.join(input_path, file), (output_path + file[:-4] + \".png\"))\n",
        "    print(f\"success! all files have been converted to png\")"
      ],
      "metadata": {
        "id": "aTacYn2vfUi5"
      },
      "execution_count": 71,
      "outputs": []
    },
    {
      "cell_type": "code",
      "source": [
        "# move xml extension files from png_path to its xml_path\n",
        "def separate_png_xml(src_path, dst_path, ext):\n",
        "    for file in fnmatch.filter(os.listdir(src_path), ext):\n",
        "        shutil.move(os.path.join(src_path, file), os.path.join(dst_path, file))\n",
        "    print(f\"success!! xml file has been moved to Palm_xml\")"
      ],
      "metadata": {
        "id": "b5Y79HNWf9MG"
      },
      "execution_count": 72,
      "outputs": []
    },
    {
      "cell_type": "code",
      "source": [
        "# directories\n",
        "geotiff_path = r\"/content/drive/MyDrive/gtf/20170929_145600-01_Mosaic_clip\"\n",
        "png_path = r\"/content/drive/MyDrive/gtf/\"\n",
        "xml_path = \" \""
      ],
      "metadata": {
        "id": "OLvqwPbqdiWK"
      },
      "execution_count": 73,
      "outputs": []
    },
    {
      "cell_type": "code",
      "source": [
        "# Convert the geotiffs to png\n",
        "converter(input_path=geotiff_path, output_path=png_path)"
      ],
      "metadata": {
        "id": "LCbMF8L4eFuo",
        "colab": {
          "base_uri": "https://localhost:8080/"
        },
        "outputId": "e547f009-5803-4e9d-dcb7-b2a5e336aa88"
      },
      "execution_count": 74,
      "outputs": [
        {
          "output_type": "stream",
          "name": "stdout",
          "text": [
            "Conversion command: ['gdal_translate', '-ot', 'Byte', '-of', 'png', '-co', 'png', '-scale_1', '37.0', '453.0', '0', '255', '-scale_2', '140.0', '629.0', '0', '255', '-scale_3', '109.0', '572.0', '0', '255', '-scale_4', '893.0', '5871.0', '0', '255', '/content/drive/MyDrive/gtf/20170929_145600-01_Mosaic_clip/20170929_145600-01_Mosaic_clip_0_0.tif', '/content/drive/MyDrive/gtf/20170929_145600-01_Mosaic_clip_0_0.png']\n",
            "Conversion command: ['gdal_translate', '-ot', 'Byte', '-of', 'png', '-co', 'png', '-scale_1', '31.0', '405.0', '0', '255', '-scale_2', '139.0', '517.0', '0', '255', '-scale_3', '118.0', '562.0', '0', '255', '-scale_4', '1204.0', '4412.0', '0', '255', '/content/drive/MyDrive/gtf/20170929_145600-01_Mosaic_clip/20170929_145600-01_Mosaic_clip_0_512.tif', '/content/drive/MyDrive/gtf/20170929_145600-01_Mosaic_clip_0_512.png']\n",
            "Conversion command: ['gdal_translate', '-ot', 'Byte', '-of', 'png', '-co', 'png', '-scale_1', '29.0', '562.0', '0', '255', '-scale_2', '132.0', '704.0', '0', '255', '-scale_3', '106.0', '763.0', '0', '255', '-scale_4', '808.0', '4699.0', '0', '255', '/content/drive/MyDrive/gtf/20170929_145600-01_Mosaic_clip/20170929_145600-01_Mosaic_clip_0_1024.tif', '/content/drive/MyDrive/gtf/20170929_145600-01_Mosaic_clip_0_1024.png']\n",
            "Conversion command: ['gdal_translate', '-ot', 'Byte', '-of', 'png', '-co', 'png', '-scale_1', '26.0', '65535.0', '0', '255', '-scale_2', '130.0', '65535.0', '0', '255', '-scale_3', '103.0', '65535.0', '0', '255', '-scale_4', '794.0', '65535.0', '0', '255', '/content/drive/MyDrive/gtf/20170929_145600-01_Mosaic_clip/20170929_145600-01_Mosaic_clip_0_1536.tif', '/content/drive/MyDrive/gtf/20170929_145600-01_Mosaic_clip_0_1536.png']\n",
            "Conversion command: ['gdal_translate', '-ot', 'Byte', '-of', 'png', '-co', 'png', '-scale_1', '38.0', '385.0', '0', '255', '-scale_2', '132.0', '565.0', '0', '255', '-scale_3', '95.0', '596.0', '0', '255', '-scale_4', '1189.0', '4492.0', '0', '255', '/content/drive/MyDrive/gtf/20170929_145600-01_Mosaic_clip/20170929_145600-01_Mosaic_clip_512_0.tif', '/content/drive/MyDrive/gtf/20170929_145600-01_Mosaic_clip_512_0.png']\n",
            "Conversion command: ['gdal_translate', '-ot', 'Byte', '-of', 'png', '-co', 'png', '-scale_1', '41.0', '363.0', '0', '255', '-scale_2', '142.0', '513.0', '0', '255', '-scale_3', '117.0', '511.0', '0', '255', '-scale_4', '1186.0', '4417.0', '0', '255', '/content/drive/MyDrive/gtf/20170929_145600-01_Mosaic_clip/20170929_145600-01_Mosaic_clip_512_512.tif', '/content/drive/MyDrive/gtf/20170929_145600-01_Mosaic_clip_512_512.png']\n",
            "Conversion command: ['gdal_translate', '-ot', 'Byte', '-of', 'png', '-co', 'png', '-scale_1', '36.0', '410.0', '0', '255', '-scale_2', '129.0', '593.0', '0', '255', '-scale_3', '114.0', '570.0', '0', '255', '-scale_4', '898.0', '4417.0', '0', '255', '/content/drive/MyDrive/gtf/20170929_145600-01_Mosaic_clip/20170929_145600-01_Mosaic_clip_512_1024.tif', '/content/drive/MyDrive/gtf/20170929_145600-01_Mosaic_clip_512_1024.png']\n",
            "Conversion command: ['gdal_translate', '-ot', 'Byte', '-of', 'png', '-co', 'png', '-scale_1', '37.0', '65535.0', '0', '255', '-scale_2', '140.0', '65535.0', '0', '255', '-scale_3', '127.0', '65535.0', '0', '255', '-scale_4', '1337.0', '65535.0', '0', '255', '/content/drive/MyDrive/gtf/20170929_145600-01_Mosaic_clip/20170929_145600-01_Mosaic_clip_512_1536.tif', '/content/drive/MyDrive/gtf/20170929_145600-01_Mosaic_clip_512_1536.png']\n",
            "Conversion command: ['gdal_translate', '-ot', 'Byte', '-of', 'png', '-co', 'png', '-scale_1', '51.0', '1044.0', '0', '255', '-scale_2', '153.0', '1145.0', '0', '255', '-scale_3', '126.0', '1222.0', '0', '255', '-scale_4', '900.0', '4819.0', '0', '255', '/content/drive/MyDrive/gtf/20170929_145600-01_Mosaic_clip/20170929_145600-01_Mosaic_clip_1024_0.tif', '/content/drive/MyDrive/gtf/20170929_145600-01_Mosaic_clip_1024_0.png']\n",
            "Conversion command: ['gdal_translate', '-ot', 'Byte', '-of', 'png', '-co', 'png', '-scale_1', '62.0', '872.0', '0', '255', '-scale_2', '171.0', '1013.0', '0', '255', '-scale_3', '134.0', '1001.0', '0', '255', '-scale_4', '948.0', '4683.0', '0', '255', '/content/drive/MyDrive/gtf/20170929_145600-01_Mosaic_clip/20170929_145600-01_Mosaic_clip_1024_512.tif', '/content/drive/MyDrive/gtf/20170929_145600-01_Mosaic_clip_1024_512.png']\n",
            "Conversion command: ['gdal_translate', '-ot', 'Byte', '-of', 'png', '-co', 'png', '-scale_1', '55.0', '2692.0', '0', '255', '-scale_2', '147.0', '2826.0', '0', '255', '-scale_3', '132.0', '2835.0', '0', '255', '-scale_4', '917.0', '4664.0', '0', '255', '/content/drive/MyDrive/gtf/20170929_145600-01_Mosaic_clip/20170929_145600-01_Mosaic_clip_1024_1024.tif', '/content/drive/MyDrive/gtf/20170929_145600-01_Mosaic_clip_1024_1024.png']\n",
            "Conversion command: ['gdal_translate', '-ot', 'Byte', '-of', 'png', '-co', 'png', '-scale_1', '55.0', '65535.0', '0', '255', '-scale_2', '166.0', '65535.0', '0', '255', '-scale_3', '139.0', '65535.0', '0', '255', '-scale_4', '1148.0', '65535.0', '0', '255', '/content/drive/MyDrive/gtf/20170929_145600-01_Mosaic_clip/20170929_145600-01_Mosaic_clip_1024_1536.tif', '/content/drive/MyDrive/gtf/20170929_145600-01_Mosaic_clip_1024_1536.png']\n",
            "Conversion command: ['gdal_translate', '-ot', 'Byte', '-of', 'png', '-co', 'png', '-scale_1', '62.0', '65535.0', '0', '255', '-scale_2', '157.0', '65535.0', '0', '255', '-scale_3', '133.0', '65535.0', '0', '255', '-scale_4', '929.0', '65535.0', '0', '255', '/content/drive/MyDrive/gtf/20170929_145600-01_Mosaic_clip/20170929_145600-01_Mosaic_clip_1536_0.tif', '/content/drive/MyDrive/gtf/20170929_145600-01_Mosaic_clip_1536_0.png']\n",
            "Conversion command: ['gdal_translate', '-ot', 'Byte', '-of', 'png', '-co', 'png', '-scale_1', '75.0', '65535.0', '0', '255', '-scale_2', '197.0', '65535.0', '0', '255', '-scale_3', '161.0', '65535.0', '0', '255', '-scale_4', '1280.0', '65535.0', '0', '255', '/content/drive/MyDrive/gtf/20170929_145600-01_Mosaic_clip/20170929_145600-01_Mosaic_clip_1536_512.tif', '/content/drive/MyDrive/gtf/20170929_145600-01_Mosaic_clip_1536_512.png']\n",
            "Conversion command: ['gdal_translate', '-ot', 'Byte', '-of', 'png', '-co', 'png', '-scale_1', '67.0', '65535.0', '0', '255', '-scale_2', '170.0', '65535.0', '0', '255', '-scale_3', '132.0', '65535.0', '0', '255', '-scale_4', '1396.0', '65535.0', '0', '255', '/content/drive/MyDrive/gtf/20170929_145600-01_Mosaic_clip/20170929_145600-01_Mosaic_clip_1536_1024.tif', '/content/drive/MyDrive/gtf/20170929_145600-01_Mosaic_clip_1536_1024.png']\n",
            "Conversion command: ['gdal_translate', '-ot', 'Byte', '-of', 'png', '-co', 'png', '-scale_1', '59.0', '65535.0', '0', '255', '-scale_2', '182.0', '65535.0', '0', '255', '-scale_3', '157.0', '65535.0', '0', '255', '-scale_4', '1454.0', '65535.0', '0', '255', '/content/drive/MyDrive/gtf/20170929_145600-01_Mosaic_clip/20170929_145600-01_Mosaic_clip_1536_1536.tif', '/content/drive/MyDrive/gtf/20170929_145600-01_Mosaic_clip_1536_1536.png']\n",
            "success! all files have been converted to png\n"
          ]
        }
      ]
    },
    {
      "cell_type": "code",
      "source": [
        "# Remove the all xml files from the png directory to xml folder\n",
        "separate_png_xml(src_path=png_path, dst_path=xml_path, ext='*.xml')"
      ],
      "metadata": {
        "id": "tf2-Y6WveRo2"
      },
      "execution_count": null,
      "outputs": []
    },
    {
      "cell_type": "code",
      "source": [
        "import geopandas as gpd\n",
        "import matplotlib.pyplot as plt\n",
        "import numpy as np\n",
        "import rasterio\n",
        "import glob\n",
        "import pandas as pd\n",
        "import torch\n",
        "\n",
        "from torch.utils.data import Dataset\n",
        "from rasterio.plot import show"
      ],
      "metadata": {
        "id": "7fhBwMvh0udV"
      },
      "execution_count": null,
      "outputs": []
    },
    {
      "cell_type": "code",
      "source": [
        "DATA_PATH = 'data'\n",
        "data_map = []\n",
        "pla_map = []\n",
        "\n",
        "for tile in glob.glob(f'{DATA_PATH}/Tile *'):\n",
        "  shape_files = glob.glob(f'{tile}/*.shp')\n",
        "  if len(shape_files) == 0:\n",
        "    continue\n",
        "\n",
        "  for planet_img in glob.glob(f'{tile}/Planet_*_FullScene/*.tif'):\n",
        "    data_map.extend([planet_img, shape_files[0]])\n",
        "    pla_map.append(planet_img)\n",
        "  \n",
        "#   for sentinel_img in glob.glob(f'{tile}/Sentinel_*/*.tif'):\n",
        "#     data_map.extend([sentinel_img, shape_files[0]])\n",
        "\n",
        "# print(data_map[1::2])\n",
        "\n",
        "df = pd.DataFrame({'img_path': data_map[::2], 'shape_path': data_map[1::2]})\n",
        "#df.shape\n",
        "#len(data_map)\n",
        "#print(pla_map)"
      ],
      "metadata": {
        "id": "6zONwM630L3W"
      },
      "execution_count": null,
      "outputs": []
    },
    {
      "cell_type": "code",
      "source": [
        "PNG_PATH = 'data/pngs/'\n",
        "def generate_pngs():\n",
        "    \n",
        "    for idx in df.index:\n",
        "        print(idx)\n",
        "#        print(data_map[idx])\n",
        "        tiff_name = pla_map[idx]\n",
        "        png_save_name = tiff_name.split('\\\\')[-1].replace('.tif', '.png')\n",
        "        print(png_save_name)\n",
        "#        break\n",
        "        geo_img = rasterio.open(df.iloc[idx, 0]) #loop thru length of dataframe instead and pass idx \n",
        "    \n",
        "        print(geo_img)\n",
        "        image = geo_img.read()\n",
        "\n",
        "        geo_points = gpd.read_file(df.iloc[idx, 1])\n",
        "        print(geo_points)\n",
        "        mask = create_mask(geo_points, geo_img)\n",
        "        \n",
        "        mask = Image.fromarray(mask*255) # for visualization\n",
        "        # print(PNG_PATH + png_save_name) #For model - imread slice last channel\n",
        "        mask = mask.convert('RGB')\n",
        "        mask.save(PNG_PATH + png_save_name)\n",
        "\n",
        "#     return image, mask\n",
        "\n",
        "generate_pngs()"
      ],
      "metadata": {
        "id": "ztACjrqE0TEP"
      },
      "execution_count": null,
      "outputs": []
    }
  ]
}