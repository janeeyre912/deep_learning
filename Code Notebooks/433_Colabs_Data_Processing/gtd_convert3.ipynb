{
  "cells": [
    {
      "cell_type": "code",
      "execution_count": 3,
      "metadata": {},
      "outputs": [
        {
          "name": "stdout",
          "output_type": "stream",
          "text": [
            "Collecting opencv-python\n",
            "  Downloading opencv_python-4.6.0.66-cp36-abi3-win_amd64.whl (35.6 MB)\n",
            "     ---------------------------------------- 35.6/35.6 MB 1.3 MB/s eta 0:00:00\n",
            "Collecting numpy>=1.17.3\n",
            "  Downloading numpy-1.23.5-cp38-cp38-win_amd64.whl (14.7 MB)\n",
            "     ---------------------------------------- 14.7/14.7 MB 1.4 MB/s eta 0:00:00\n",
            "Installing collected packages: numpy, opencv-python\n",
            "Successfully installed numpy-1.23.5 opencv-python-4.6.0.66\n"
          ]
        }
      ],
      "source": [
        "!pip install opencv-python"
      ]
    },
    {
      "cell_type": "code",
      "execution_count": null,
      "metadata": {},
      "outputs": [],
      "source": []
    },
    {
      "cell_type": "code",
      "execution_count": 4,
      "metadata": {
        "id": "F9l-fUeM_tkd"
      },
      "outputs": [],
      "source": [
        "# import libraries\n",
        "import os\n",
        "import subprocess\n",
        "import shutil\n",
        "import fnmatch\n",
        "from osgeo import gdal\n",
        "import cv2\n",
        "from PIL import Image\n",
        "import numpy as np\n"
      ]
    },
    {
      "cell_type": "code",
      "execution_count": 5,
      "metadata": {
        "id": "4A6JZwePvocj"
      },
      "outputs": [],
      "source": [
        "# function that splits Geotiffs into required pieces\n",
        "\n",
        "def create_tiles(src_path, dst_path):\n",
        "\n",
        "    # specify tile dimension\n",
        "    tile_size_x = 512\n",
        "    tile_size_y = 512\n",
        "\n",
        "    # dynamically get the image dimension\n",
        "    dataset = gdal.Open(src_path)\n",
        "    band = dataset.GetRasterBand(1)\n",
        "    xsize = band.XSize\n",
        "    ysize = band.YSize\n",
        "\n",
        "    # clip image using using tile_size and gdal_translate iteratively\n",
        "    for i in range(0, xsize, tile_size_x):\n",
        "        for j in range(0, ysize, tile_size_y):\n",
        "            com_string = \"gdal_translate -of GTIFF -srcwin \" + str(i) + \", \" + str(j) + \", \" + str(tile_size_x) + \", \" + str(tile_size_y) + \" \" + str(src_path) + \" \" + str(dst_path) + \"_\" + str(i) + \"_\" + str(j) + \".tif\"\n",
        "            print(com_string)\n",
        "            # os.system(com_string)"
      ]
    },
    {
      "cell_type": "code",
      "execution_count": 12,
      "metadata": {
        "id": "diVJPWvpc6f3"
      },
      "outputs": [
        {
          "ename": "ModuleNotFoundError",
          "evalue": "No module named 'torch'",
          "output_type": "error",
          "traceback": [
            "\u001b[1;31m---------------------------------------------------------------------------\u001b[0m",
            "\u001b[1;31mModuleNotFoundError\u001b[0m                       Traceback (most recent call last)",
            "Cell \u001b[1;32mIn [12], line 3\u001b[0m\n\u001b[0;32m      1\u001b[0m \u001b[39mimport\u001b[39;00m \u001b[39mglob\u001b[39;00m\n\u001b[0;32m      2\u001b[0m \u001b[39mimport\u001b[39;00m \u001b[39mpandas\u001b[39;00m \u001b[39mas\u001b[39;00m \u001b[39mpd\u001b[39;00m\n\u001b[1;32m----> 3\u001b[0m \u001b[39mimport\u001b[39;00m \u001b[39mtorch\u001b[39;00m\n",
            "\u001b[1;31mModuleNotFoundError\u001b[0m: No module named 'torch'"
          ]
        }
      ],
      "source": [
        "import glob\n",
        "import pandas as pd\n",
        "import torch\n",
        "\n",
        "#from torch.utils.data import Dataset"
      ]
    },
    {
      "cell_type": "code",
      "execution_count": 11,
      "metadata": {
        "id": "eXbtDlODc-aF"
      },
      "outputs": [],
      "source": [
        "DATA_PATH = 'data'\n",
        "data_map = []\n",
        "pla_map = []\n",
        "sen_map = []\n",
        "\n",
        "for tile in glob.glob(f'{DATA_PATH}/Tile *'):\n",
        "\n",
        "  for planet_img in glob.glob(f'{tile}/Planet_*_FullScene/*.tif'):\n",
        "    pla_map.append(planet_img)\n",
        "  \n",
        "  for sentinel_img in glob.glob(f'{tile}/Sentinel_*/*.tif'):\n",
        "     sen_map.append(sentinel_img)\n",
        "\n",
        "df_p = pd.DataFrame({'img_path': pla_map[::2]})\n"
      ]
    },
    {
      "cell_type": "code",
      "execution_count": null,
      "metadata": {
        "id": "2sGCWpkDCgw1"
      },
      "outputs": [],
      "source": [
        "pla_pth = \"\" # fill in path to results empty dir. should end n '/'\n",
        "sen_pth = r\"\" # fill in path to results empty dir"
      ]
    },
    {
      "cell_type": "code",
      "execution_count": null,
      "metadata": {
        "id": "uYQUD959DDc1"
      },
      "outputs": [],
      "source": [
        "def gtiff_split(map, out_pth):\n",
        "  for i in map: \n",
        "    tiff_name = i\n",
        "    new_dir = tiff_name.split('\\\\')[-1].replace('.tif', '')\n",
        "    new_path = os.path.join(out_path, new_dir) #out_path/some_name\n",
        "    create_tiles(i, new_path)"
      ]
    },
    {
      "cell_type": "code",
      "execution_count": null,
      "metadata": {
        "id": "9g6AyL6TDR9k"
      },
      "outputs": [],
      "source": [
        "gtiff_split(pla_map, pla_pth)\n",
        "gtiff_split(sen_map, sen_pth)"
      ]
    },
    {
      "cell_type": "code",
      "execution_count": null,
      "metadata": {
        "id": "0H9iQeXBeQm6"
      },
      "outputs": [],
      "source": [
        "# function converts geotiff to png files (8bit)\n",
        "def geotiff_to_png(input_tiff_img, output_png_img, output_pix_type='Byte', output_format='png', compress='png', percentiles=[2, 98]):\n",
        "\n",
        "    img_src = gdal.Open(input_tiff_img)\n",
        "\n",
        "    cmd = ['gdal_translate', '-ot', output_pix_type, '-of', output_format, '-co', compress]\n",
        "\n",
        "    for band_id in range(img_src.RasterCount):\n",
        "        band_id = band_id + 1\n",
        "        band = img_src.GetRasterBand(band_id)\n",
        "\n",
        "        # cal the band minimum and max values of raster\n",
        "        b_min = band.GetMinimum()\n",
        "        b_max = band.GetMaximum()\n",
        "\n",
        "        # if not exist minimum and maximum values\n",
        "        if b_min is None or b_max is None:\n",
        "            (b_min, b_max) = band.ComputeRasterMinMax(1)\n",
        "            if b_min == b_max:\n",
        "                b_min -= 1\n",
        "\n",
        "        cmd.append('-scale_{}'.format(band_id))\n",
        "        cmd.append('{}'.format(b_min))\n",
        "        cmd.append('{}'.format(b_max))\n",
        "        cmd.append('{}'.format(0))\n",
        "        cmd.append('{}'.format(255))\n",
        "\n",
        "    cmd.append(input_tiff_img)\n",
        "    cmd.append(output_png_img)\n",
        "    print(\"Conversion command:\", cmd)\n",
        "    subprocess.call(cmd)"
      ]
    },
    {
      "cell_type": "code",
      "execution_count": null,
      "metadata": {
        "id": "aTacYn2vfUi5"
      },
      "outputs": [],
      "source": [
        "# function that activates the converter wrt geotiff in input path\n",
        "def converter(input_path, output_path):\n",
        "    # convert each file to output\n",
        "    for file in os.listdir(input_path):\n",
        "        geotiff_to_png(os.path.join(input_path, file), (output_path + file[:-4] + \"png\"))\n",
        "    print(f\"success! all files have been converted to png\")"
      ]
    },
    {
      "cell_type": "code",
      "execution_count": null,
      "metadata": {
        "id": "b5Y79HNWf9MG"
      },
      "outputs": [],
      "source": [
        "# move xml extension files from png_path to its xml_path\n",
        "def separate_png_xml(src_path, dst_path, ext):\n",
        "    for file in fnmatch.filter(os.listdir(src_path), ext):\n",
        "        shutil.move(os.path.join(src_path, file), os.path.join(dst_path, file))\n",
        "    print(f\"success!! xml file has been moved to Palm_xml\")"
      ]
    },
    {
      "cell_type": "code",
      "execution_count": null,
      "metadata": {
        "id": "OLvqwPbqdiWK"
      },
      "outputs": [],
      "source": [
        "# directories\n",
        "geotiff_path = \"/content/drive/MyDrive/Split_Geotiffs/20170929_145600-01_Mosaic_clip/\"\n",
        "png_path = \"/content/drive/MyDrive/images/\"\n",
        "xml_path = \"/content/drive/MyDrive/xml/\""
      ]
    },
    {
      "cell_type": "code",
      "execution_count": null,
      "metadata": {
        "colab": {
          "base_uri": "https://localhost:8080/"
        },
        "id": "LCbMF8L4eFuo",
        "outputId": "4c0ac19e-0e3c-42f5-f6bb-3039517b1f34"
      },
      "outputs": [
        {
          "name": "stdout",
          "output_type": "stream",
          "text": [
            "Conversion command: ['gdal_translate', '-ot', 'Byte', '-of', 'png', '-co', 'png', '-scale_1', '37.0', '453.0', '0', '255', '-scale_2', '140.0', '629.0', '0', '255', '-scale_3', '109.0', '572.0', '0', '255', '-scale_4', '893.0', '5871.0', '0', '255', '/content/drive/MyDrive/Split_Geotiffs/20170929_145600-01_Mosaic_clip/20170929_145600-01_Mosaic_clip_0_0.tif', '/content/drive/MyDrive/images/20170929_145600-01_Mosaic_clip_0_0png']\n",
            "Conversion command: ['gdal_translate', '-ot', 'Byte', '-of', 'png', '-co', 'png', '-scale_1', '31.0', '405.0', '0', '255', '-scale_2', '139.0', '517.0', '0', '255', '-scale_3', '118.0', '562.0', '0', '255', '-scale_4', '1204.0', '4412.0', '0', '255', '/content/drive/MyDrive/Split_Geotiffs/20170929_145600-01_Mosaic_clip/20170929_145600-01_Mosaic_clip_0_512.tif', '/content/drive/MyDrive/images/20170929_145600-01_Mosaic_clip_0_512png']\n",
            "Conversion command: ['gdal_translate', '-ot', 'Byte', '-of', 'png', '-co', 'png', '-scale_1', '29.0', '562.0', '0', '255', '-scale_2', '132.0', '704.0', '0', '255', '-scale_3', '106.0', '763.0', '0', '255', '-scale_4', '808.0', '4699.0', '0', '255', '/content/drive/MyDrive/Split_Geotiffs/20170929_145600-01_Mosaic_clip/20170929_145600-01_Mosaic_clip_0_1024.tif', '/content/drive/MyDrive/images/20170929_145600-01_Mosaic_clip_0_1024png']\n",
            "Conversion command: ['gdal_translate', '-ot', 'Byte', '-of', 'png', '-co', 'png', '-scale_1', '26.0', '65535.0', '0', '255', '-scale_2', '130.0', '65535.0', '0', '255', '-scale_3', '103.0', '65535.0', '0', '255', '-scale_4', '794.0', '65535.0', '0', '255', '/content/drive/MyDrive/Split_Geotiffs/20170929_145600-01_Mosaic_clip/20170929_145600-01_Mosaic_clip_0_1536.tif', '/content/drive/MyDrive/images/20170929_145600-01_Mosaic_clip_0_1536png']\n",
            "Conversion command: ['gdal_translate', '-ot', 'Byte', '-of', 'png', '-co', 'png', '-scale_1', '38.0', '385.0', '0', '255', '-scale_2', '132.0', '565.0', '0', '255', '-scale_3', '95.0', '596.0', '0', '255', '-scale_4', '1189.0', '4492.0', '0', '255', '/content/drive/MyDrive/Split_Geotiffs/20170929_145600-01_Mosaic_clip/20170929_145600-01_Mosaic_clip_512_0.tif', '/content/drive/MyDrive/images/20170929_145600-01_Mosaic_clip_512_0png']\n",
            "Conversion command: ['gdal_translate', '-ot', 'Byte', '-of', 'png', '-co', 'png', '-scale_1', '41.0', '363.0', '0', '255', '-scale_2', '142.0', '513.0', '0', '255', '-scale_3', '117.0', '511.0', '0', '255', '-scale_4', '1186.0', '4417.0', '0', '255', '/content/drive/MyDrive/Split_Geotiffs/20170929_145600-01_Mosaic_clip/20170929_145600-01_Mosaic_clip_512_512.tif', '/content/drive/MyDrive/images/20170929_145600-01_Mosaic_clip_512_512png']\n",
            "Conversion command: ['gdal_translate', '-ot', 'Byte', '-of', 'png', '-co', 'png', '-scale_1', '36.0', '410.0', '0', '255', '-scale_2', '129.0', '593.0', '0', '255', '-scale_3', '114.0', '570.0', '0', '255', '-scale_4', '898.0', '4417.0', '0', '255', '/content/drive/MyDrive/Split_Geotiffs/20170929_145600-01_Mosaic_clip/20170929_145600-01_Mosaic_clip_512_1024.tif', '/content/drive/MyDrive/images/20170929_145600-01_Mosaic_clip_512_1024png']\n",
            "Conversion command: ['gdal_translate', '-ot', 'Byte', '-of', 'png', '-co', 'png', '-scale_1', '37.0', '65535.0', '0', '255', '-scale_2', '140.0', '65535.0', '0', '255', '-scale_3', '127.0', '65535.0', '0', '255', '-scale_4', '1337.0', '65535.0', '0', '255', '/content/drive/MyDrive/Split_Geotiffs/20170929_145600-01_Mosaic_clip/20170929_145600-01_Mosaic_clip_512_1536.tif', '/content/drive/MyDrive/images/20170929_145600-01_Mosaic_clip_512_1536png']\n",
            "Conversion command: ['gdal_translate', '-ot', 'Byte', '-of', 'png', '-co', 'png', '-scale_1', '51.0', '1044.0', '0', '255', '-scale_2', '153.0', '1145.0', '0', '255', '-scale_3', '126.0', '1222.0', '0', '255', '-scale_4', '900.0', '4819.0', '0', '255', '/content/drive/MyDrive/Split_Geotiffs/20170929_145600-01_Mosaic_clip/20170929_145600-01_Mosaic_clip_1024_0.tif', '/content/drive/MyDrive/images/20170929_145600-01_Mosaic_clip_1024_0png']\n",
            "Conversion command: ['gdal_translate', '-ot', 'Byte', '-of', 'png', '-co', 'png', '-scale_1', '62.0', '872.0', '0', '255', '-scale_2', '171.0', '1013.0', '0', '255', '-scale_3', '134.0', '1001.0', '0', '255', '-scale_4', '948.0', '4683.0', '0', '255', '/content/drive/MyDrive/Split_Geotiffs/20170929_145600-01_Mosaic_clip/20170929_145600-01_Mosaic_clip_1024_512.tif', '/content/drive/MyDrive/images/20170929_145600-01_Mosaic_clip_1024_512png']\n",
            "Conversion command: ['gdal_translate', '-ot', 'Byte', '-of', 'png', '-co', 'png', '-scale_1', '55.0', '2692.0', '0', '255', '-scale_2', '147.0', '2826.0', '0', '255', '-scale_3', '132.0', '2835.0', '0', '255', '-scale_4', '917.0', '4664.0', '0', '255', '/content/drive/MyDrive/Split_Geotiffs/20170929_145600-01_Mosaic_clip/20170929_145600-01_Mosaic_clip_1024_1024.tif', '/content/drive/MyDrive/images/20170929_145600-01_Mosaic_clip_1024_1024png']\n",
            "Conversion command: ['gdal_translate', '-ot', 'Byte', '-of', 'png', '-co', 'png', '-scale_1', '55.0', '65535.0', '0', '255', '-scale_2', '166.0', '65535.0', '0', '255', '-scale_3', '139.0', '65535.0', '0', '255', '-scale_4', '1148.0', '65535.0', '0', '255', '/content/drive/MyDrive/Split_Geotiffs/20170929_145600-01_Mosaic_clip/20170929_145600-01_Mosaic_clip_1024_1536.tif', '/content/drive/MyDrive/images/20170929_145600-01_Mosaic_clip_1024_1536png']\n",
            "Conversion command: ['gdal_translate', '-ot', 'Byte', '-of', 'png', '-co', 'png', '-scale_1', '62.0', '65535.0', '0', '255', '-scale_2', '157.0', '65535.0', '0', '255', '-scale_3', '133.0', '65535.0', '0', '255', '-scale_4', '929.0', '65535.0', '0', '255', '/content/drive/MyDrive/Split_Geotiffs/20170929_145600-01_Mosaic_clip/20170929_145600-01_Mosaic_clip_1536_0.tif', '/content/drive/MyDrive/images/20170929_145600-01_Mosaic_clip_1536_0png']\n",
            "Conversion command: ['gdal_translate', '-ot', 'Byte', '-of', 'png', '-co', 'png', '-scale_1', '75.0', '65535.0', '0', '255', '-scale_2', '197.0', '65535.0', '0', '255', '-scale_3', '161.0', '65535.0', '0', '255', '-scale_4', '1280.0', '65535.0', '0', '255', '/content/drive/MyDrive/Split_Geotiffs/20170929_145600-01_Mosaic_clip/20170929_145600-01_Mosaic_clip_1536_512.tif', '/content/drive/MyDrive/images/20170929_145600-01_Mosaic_clip_1536_512png']\n",
            "Conversion command: ['gdal_translate', '-ot', 'Byte', '-of', 'png', '-co', 'png', '-scale_1', '67.0', '65535.0', '0', '255', '-scale_2', '170.0', '65535.0', '0', '255', '-scale_3', '132.0', '65535.0', '0', '255', '-scale_4', '1396.0', '65535.0', '0', '255', '/content/drive/MyDrive/Split_Geotiffs/20170929_145600-01_Mosaic_clip/20170929_145600-01_Mosaic_clip_1536_1024.tif', '/content/drive/MyDrive/images/20170929_145600-01_Mosaic_clip_1536_1024png']\n",
            "Conversion command: ['gdal_translate', '-ot', 'Byte', '-of', 'png', '-co', 'png', '-scale_1', '59.0', '65535.0', '0', '255', '-scale_2', '182.0', '65535.0', '0', '255', '-scale_3', '157.0', '65535.0', '0', '255', '-scale_4', '1454.0', '65535.0', '0', '255', '/content/drive/MyDrive/Split_Geotiffs/20170929_145600-01_Mosaic_clip/20170929_145600-01_Mosaic_clip_1536_1536.tif', '/content/drive/MyDrive/images/20170929_145600-01_Mosaic_clip_1536_1536png']\n",
            "success! all files have been converted to png\n"
          ]
        }
      ],
      "source": [
        "# Convert the geotiffs to png\n",
        "converter(input_path=geotiff_path, output_path=png_path)"
      ]
    },
    {
      "cell_type": "code",
      "execution_count": null,
      "metadata": {
        "colab": {
          "base_uri": "https://localhost:8080/"
        },
        "id": "tf2-Y6WveRo2",
        "outputId": "fa5cf050-acc2-4194-8b7c-30e34fa8e00d"
      },
      "outputs": [
        {
          "name": "stdout",
          "output_type": "stream",
          "text": [
            "success!! xml file has been moved to Palm_xml\n"
          ]
        }
      ],
      "source": [
        "# Remove the all xml files from the png directory to xml folder\n",
        "separate_png_xml(src_path=png_path, dst_path=xml_path, ext='*.xml')"
      ]
    },
    {
      "cell_type": "code",
      "execution_count": null,
      "metadata": {
        "colab": {
          "base_uri": "https://localhost:8080/"
        },
        "id": "NPLQdZIMR25j",
        "outputId": "69897f01-e910-40eb-b49d-9868a2be27ff"
      },
      "outputs": [
        {
          "name": "stdout",
          "output_type": "stream",
          "text": [
            "('R', 'G', 'B')\n",
            "image has 3 channels\n"
          ]
        }
      ],
      "source": [
        "# find the number of images channels in a particular image\n",
        "image = '/content/drive/MyDrive/images/Kudos1.png'\n",
        "\n",
        "img = Image.open(image)\n",
        "\n",
        "im1 = Image.Image.getbands(img)\n",
        "\n",
        "print(im1)\n",
        "\n",
        "# convert to numpy array\n",
        "img = np.array(img)\n",
        "\n",
        "# find number of channels\n",
        "if img.ndim == 2:\n",
        "    channels = 1\n",
        "    print(\"image has 1 channel\")\n",
        "else:\n",
        "    channels = img.shape[-1]\n",
        "    print(\"image has\", channels, \"channels\")"
      ]
    },
    {
      "cell_type": "code",
      "execution_count": null,
      "metadata": {
        "colab": {
          "base_uri": "https://localhost:8080/"
        },
        "id": "uV__T4uNSZCi",
        "outputId": "782dbc3c-9015-4bb9-c2bd-b00db192a014"
      },
      "outputs": [
        {
          "name": "stdout",
          "output_type": "stream",
          "text": [
            "Mounted at /content/drive\n"
          ]
        }
      ],
      "source": [
        "# from google.colab import drive\n",
        "# drive.mount('/content/drive')"
      ]
    }
  ],
  "metadata": {
    "colab": {
      "provenance": []
    },
    "kernelspec": {
      "display_name": "test",
      "language": "python",
      "name": "python3"
    },
    "language_info": {
      "codemirror_mode": {
        "name": "ipython",
        "version": 3
      },
      "file_extension": ".py",
      "mimetype": "text/x-python",
      "name": "python",
      "nbconvert_exporter": "python",
      "pygments_lexer": "ipython3",
      "version": "3.8.15"
    },
    "vscode": {
      "interpreter": {
        "hash": "fc03afbbba0e92ae3b961b7bc5b0f89df28c63a4d02ad890761bddccd457d765"
      }
    }
  },
  "nbformat": 4,
  "nbformat_minor": 0
}
