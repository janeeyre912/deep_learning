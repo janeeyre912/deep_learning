{
 "cells": [
  {
   "cell_type": "code",
   "execution_count": null,
   "metadata": {},
   "outputs": [],
   "source": [
    "import os\n",
    "import glob\n",
    "IN_PATH = ''\n",
    "OUT_PATH = ''\n",
    "fi_exists = []\n",
    "\n",
    "for pth in IN_PATH:\n",
    "     fi = pth.split('\\\\')[-1]\n",
    "     fi_exists.append(fi)\n",
    "for fi in fi_exists:\n",
    "    "
   ]
  },
  {
   "cell_type": "code",
   "execution_count": null,
   "metadata": {},
   "outputs": [],
   "source": [
    "# move xml extension files from png_path to its xml_path\n",
    "def separate_png_xml(src_path, dst_path, ext):\n",
    "    for file in fnmatch.filter(os.listdir(src_path), ext):\n",
    "        shutil.move(os.path.join(src_path, file), os.path.join(dst_path, file))\n",
    "    print(f\"success!! xml file has been moved to Palm_xml\")"
   ]
  },
  {
   "cell_type": "code",
   "execution_count": null,
   "metadata": {},
   "outputs": [],
   "source": [
    "# Remove the all xml files from the png directory to xml folder\n",
    "separate_png_xml(src_path=png_path, dst_path=xml_path, ext='*.tif')"
   ]
  },
  {
   "cell_type": "code",
   "execution_count": null,
   "metadata": {},
   "outputs": [],
   "source": [
    "import os \n",
    "import shutil\n",
    "\n",
    "data_path = '\\data'\n",
    "for dir in data_path:\n",
    "    if # "
   ]
  },
  {
   "cell_type": "code",
   "execution_count": null,
   "metadata": {},
   "outputs": [],
   "source": [
    "# MASK\n",
    "## N\n",
    "\n",
    "# DATA\n",
    "## Works in qgis on a single image\n",
    "# Needs to be iterated for all images "
   ]
  }
 ],
 "metadata": {
  "kernelspec": {
   "display_name": "test",
   "language": "python",
   "name": "python3"
  },
  "language_info": {
   "name": "python",
   "version": "3.8.15 (default, Nov 24 2022, 14:38:14) [MSC v.1916 64 bit (AMD64)]"
  },
  "orig_nbformat": 4,
  "vscode": {
   "interpreter": {
    "hash": "fc03afbbba0e92ae3b961b7bc5b0f89df28c63a4d02ad890761bddccd457d765"
   }
  }
 },
 "nbformat": 4,
 "nbformat_minor": 2
}
